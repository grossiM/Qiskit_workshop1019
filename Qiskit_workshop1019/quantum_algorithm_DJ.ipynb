{
 "cells": [
  {
   "cell_type": "markdown",
   "metadata": {},
   "source": [
    "## Examples of quantum algorithms\n",
    "\n",
    "<p style='text-align: justify;'> In this notebook we are going to present a couple of paradigmatic quantum algorithms and see how they can be implemented in practice in qiskit. You can find many more examples by having a look to this url <a href=\"https://github.com/Qiskit/qiskit-textbook/\">https://github.com/Qiskit/qiskit-textbook/</a> (and also at <a href=\"http://quantumalgorithmzoo.org/\"> http://quantumalgorithmzoo.org/</a>). For didactic purposes, we present here only a very simple oracle-based algorithm (Deutsch's algorithm on $N=2$ qubits) and we leave some exercise for you.\n",
    "\n",
    "In the end you can have a look at a slightly more advanced one (Quantum Fourier Transform on $N=3$ qubits)."
   ]
  },
  {
   "cell_type": "markdown",
   "metadata": {},
   "source": [
    "### Quantum parallelism\n",
    "\n",
    "<p style='text-align: justify;'> A function $\\,f:\\{0,1\\}^n\\rightarrow\\{0,1\\}^m$ can be quantum computed via unitary operations. Usually, two separate qubit registers are used, with $n$ and $m$ qubits respectively. Then, if $x\\in\\{0,1\\}^n$ and $x\\in\\{0,1\\}^m$, what a quantum computer usually does is the following:\n",
    "$$\n",
    "\\mathrm{U}_f\\left|x\\right\\rangle\\left|y\\right\\rangle = \\left|x\\right\\rangle\\left|y\\oplus f(x)\\right\\rangle\n",
    "$$\n",
    "where $\\left|x\\right\\rangle$ and $\\left|y\\right\\rangle$ are states in the computational basis of $n$ and $m$ qubits respectively. Notice that the unitary $\\mathrm{U}_f$ acts on the Hilbert space of $n+m$ qubits in general. Usually, the second register is initialized in the blank state $\\left|y\\right\\rangle=\\left|0\\right\\rangle^{\\otimes m}$. If the state of the first register is prepared in a quantum superposition of all the computational basis states, then we obtain (for simplicity let us first take $n=m=1$)\n",
    "$$\n",
    "\\mathrm{U}_f\\frac{1}{\\sqrt{2}}\\left(\\left|0\\right\\rangle+\\left|1\\right\\rangle\\right)\\left|0\\right\\rangle \\rightarrow \\frac{1}{\\sqrt{2}}\\left(\\left|0\\right\\rangle\\left|f(0)\\right\\rangle+\\left|1\\right\\rangle\\left|f(1)\\right\\rangle\\right)\n",
    "$$\n",
    "You can easily see that we were able to compute _all_ the possible outputs of $f$ with only one call to the unitary encoding the function. This can be of course generalized to arbitrary $n$ and $m$, and the equally weighted superposition of all the computational basis states can be efficiently obtained by using parallel Hadamard gates:\n",
    "$$\n",
    "\\mathrm{H}^{\\otimes n}\\left|0\\right\\rangle^{\\otimes n} = \\frac{1}{\\sqrt{2^n}}\\sum_{x\\in\\{0,1\\}^n}\\left|x\\right\\rangle\n",
    "$$\n",
    "Then, as above, we have\n",
    "$$\n",
    "\\mathrm{U}_f\\left(\\frac{1}{\\sqrt{2^n}}\\sum_{x\\in\\{0,1\\}^n}\\left|x\\right\\rangle\\right)\\left|0\\right\\rangle^{\\otimes m} = \\frac{1}{\\sqrt{2^n}}\\sum_{x\\in\\{0,1\\}^n}\\left|x\\right\\rangle\\left|f(x)\\right\\rangle\n",
    "$$\n",
    "Unfortunately, being able to quantum compute all the outputs of $f$ at once does not mean being able to _access_ such outputs efficiently. Indeed, with a direct measure in the computational basis we can only read one of the outputs at a time. How then can this form of quantum parallelism be useful? The answer, as shown below with Deutsch's algorithm, is that it can provide significant advantages whenever we are not interested in particular output values of $f$, but rather in studying the global properties of the function itself.\n",
    "</p>"
   ]
  },
  {
   "cell_type": "markdown",
   "metadata": {},
   "source": [
    "### Deutsch's algorithm (1985), $n = m = 1$\n",
    "\n",
    "<p style='text-align: justify;'> This algorithm belongs to the class of _oracle-based_ examples, and is formulated in terms of a black-box. The problem is the following: given a black-box unitary, the properties and implementation of which we must assume unknown, implementing a function $f: \\{0,1\\}\\rightarrow \\{0,1\\}$, decide whether $f(0) = f(1)$ or $f(0) \\neq f(1)$ using the oracle $\\mathrm{U}_f$ only _once_. Notice that such task is impossible classically, since we need at least two calls of the oracle, one for each possible input, to conclude. There are four different possible $f$ functions that the oracle actually implements:\n",
    "$$\n",
    "\\mathrm{A}: \\quad f_1(0) = 0 \\, , \\, f_1(1) = 1 \\quad \\text{or} \\quad f_2(0) = 1 \\, , \\, f_2(1) = 0\n",
    "$$\n",
    "$$\n",
    "\\mathrm{B}: \\quad f_3(0) = 0 \\, , \\, f_3(1) = 0 \\quad \\text{or} \\quad f_4(0) = 1 \\, , \\, f_4(1) = 1\n",
    "$$\n",
    "The functions labeled with $\\mathrm{A}$ have $f(0) \\neq f(1)$, while the ones labeled with $\\mathrm{B}$ have $f(0) = f(1)$. The task that we have to complete then reduces to distingushing between A-type and B-type functions. The algorithm solving the problem uses two single-qubit registers ($n = m = 1$) and starts from the state\n",
    "$$\n",
    "\\left|\\psi_0\\right\\rangle = \\left|0\\right\\rangle \\otimes \\frac{1}{\\sqrt{2}}\\left(\\left|0\\right\\rangle-\\left|1\\right\\rangle\\right)\n",
    "$$\n",
    "In qiskit, we can prepare it from the standard blank state $\\left|0\\right\\rangle \\otimes \\left|0\\right\\rangle$ by applying a $\\mathrm{H}$ after a $\\mathrm{X}$ on the second qubit:\n",
    "</p>"
   ]
  },
  {
   "cell_type": "markdown",
   "metadata": {},
   "source": [
    "## Qiskit Implementation <a id='implementation'></a>\n"
   ]
  },
  {
   "cell_type": "code",
   "execution_count": 1,
   "metadata": {},
   "outputs": [],
   "source": [
    "# initialization\n",
    "import matplotlib.pyplot as plt\n",
    "%matplotlib inline\n",
    "import numpy as np\n",
    "\n",
    "# importing Qiskit\n",
    "from qiskit import IBMQ, BasicAer\n",
    "from qiskit.providers.ibmq import least_busy\n",
    "from qiskit import QuantumCircuit, ClassicalRegister, QuantumRegister, execute\n",
    "\n",
    "# import basic plot tools\n",
    "from qiskit.tools.visualization import plot_histogram"
   ]
  },
  {
   "cell_type": "code",
   "execution_count": 2,
   "metadata": {},
   "outputs": [
    {
     "data": {
      "image/png": "[encoded data removed]",
      "text/plain": [
       "<PIL.Image.Image image mode=RGB size=360x125 at 0x10D087810>"
      ]
     },
     "execution_count": 2,
     "metadata": {},
     "output_type": "execute_result"
    }
   ],
   "source": [
    "# Creating registers\n",
    "# n qubits for querying the oracle and one qubit for storing the answer\n",
    "qr = QuantumRegister(2,name='qr')\n",
    "crsingle = ClassicalRegister(1)\n",
    "deutsch = QuantumCircuit(qr,crsingle)\n",
    "\n",
    "deutsch.x(qr[1])\n",
    "deutsch.h(qr[1])\n",
    "\n",
    "deutsch.draw(output='latex')"
   ]
  },
  {
   "cell_type": "markdown",
   "metadata": {},
   "source": [
    "<p style='text-align: justify;'> Now, in order to profit from the quantum parallelism idea, we create a superposition of computational basis states in the first register by applying a $\\mathrm{H}$ gate, obtaining\n",
    "$$\n",
    "\\left|\\psi_0\\right\\rangle \\rightarrow \\frac{1}{\\sqrt{2}}\\left(\\left|0\\right\\rangle+\\left|1\\right\\rangle\\right) \\otimes \\frac{1}{\\sqrt{2}}\\left(\\left|0\\right\\rangle-\\left|1\\right\\rangle\\right)\n",
    "$$\n",
    "Notice that this single qubit operation can be performed in parallel with one the previous ones on the other register. The circuit in qiskit becomes:\n",
    "</p>"
   ]
  },
  {
   "cell_type": "code",
   "execution_count": 3,
   "metadata": {},
   "outputs": [
    {
     "data": {
      "image/png": "[encoded data removed]",
      "text/plain": [
       "<Figure size 287.756x204.68 with 1 Axes>"
      ]
     },
     "execution_count": 3,
     "metadata": {},
     "output_type": "execute_result"
    }
   ],
   "source": [
    "deutsch.h(qr[0])\n",
    "\n",
    "deutsch.draw(output='mpl')"
   ]
  },
  {
   "cell_type": "markdown",
   "metadata": {},
   "source": [
    "<p style='text-align: justify;'> We are now ready to let our quantum state go through the black-box unitary $\\mathrm{U}_f$ computing the unknown $f$. The action of $\\mathrm{U}_f$ goes as presented in the paragraph above, and together with linearity properties of unitary operators, it gives\n",
    "$$\n",
    "\\frac{1}{\\sqrt{2}}\\left(\\left|0\\right\\rangle+\\left|1\\right\\rangle\\right) \\otimes \\frac{1}{\\sqrt{2}}\\left(\\left|0\\right\\rangle-\\left|1\\right\\rangle\\right) \\rightarrow \\frac{1}{2} \\left[\\left|0\\right\\rangle\\left(\\left|0\\oplus f(0)\\right\\rangle-\\left|1\\oplus f(0)\\right\\rangle\\right)+\\left|1\\right\\rangle\\left(\\left|0\\oplus f(1)\\right\\rangle-\\left|1\\oplus f(1)\\right\\rangle\\right)\\right] \\equiv \\left| \\psi_f\\right\\rangle\n",
    "$$\n",
    "It is easy to see that the terms in $\\left| \\psi_f\\right\\rangle$ can be rearranged in the form\n",
    "$$\n",
    "\\left| \\psi_f\\right\\rangle = \\frac{1}{\\sqrt{2}} \\left((-1)^{f(0)}\\left|0\\right\\rangle+(-1)^{f(1)}\\left|1\\right\\rangle\\right) \\otimes \\frac{1}{\\sqrt{2}}\\left(\\left|0\\right\\rangle-\\left|1\\right\\rangle\\right)\n",
    "$$\n",
    "One last $\\mathrm{H}$ on the first qubit will now give two possible scenarios: indeed, if $f(0) = f(1)$, the final state is (up to a global phase factor)\n",
    "$$\n",
    "\\left(\\mathrm{H}\\otimes \\mathcal{I}\\right) \\left| \\psi_f\\right\\rangle = \\left|0\\right\\rangle \\otimes \\frac{1}{\\sqrt{2}}\\left(\\left|0\\right\\rangle-\\left|1\\right\\rangle\\right)\n",
    "$$\n",
    "while if $f(0) \\neq f(1)$ we have\n",
    "$$\n",
    "\\left(\\mathrm{H}\\otimes \\mathcal{I}\\right) \\left| \\psi_f\\right\\rangle = \\left|1\\right\\rangle \\otimes \\frac{1}{\\sqrt{2}}\\left(\\left|0\\right\\rangle-\\left|1\\right\\rangle\\right)\n",
    "$$\n",
    "Finally, a measure of the first register in the computational basis will give the desired outcome: indeed, if we masure the first qubit in $\\left| 1\\right\\rangle$ then we know that $f$ is A-type, while if we see a $\\left| 0\\right\\rangle$ it means that the unknown $f$ is B-type. Notice that we have used $\\mathrm{U}_f$ only once.\n",
    "</p>\n",
    "\n",
    "<p style='text-align: justify;'> We can complete our example in qiskit by choosing a model for the oracle $\\mathrm{U}_f$. You can for example see that for $f = f_1$, a single $\\mathrm{CNOT}$ with the first register as control will do the job:\n",
    "$$\n",
    "\\mathrm{U}_{f_1} = \\mathrm{CNOT}(qr_0,qr_1)\n",
    "$$\n",
    "If you feel puzzled by the fact that we cannot implement the circuit in practice without knowing _in advance_ the properties of $f$, you may simply consider that the $\\mathrm{U}_f$ part of the circuit (the actual black-box) is done for example on a remote server. What we are showing in qiskit is therefore the full story of the quantum state that you and your partner are sharing, with you taking care of the preparation of the state, post-processing and measure, and the other party chosing and performing the $\\mathrm{U}_f$ without letting you know the details. What Deutsch's procedure actually tells you is how to prepare a carefully designed state and what to do after you receive it back from the oracle, and it guarantees that you will be able to recover the information about $f$ by exchanging the state only _once_ with the other party. With this in mind, we can complete ansd show the quantum circuit for the case in which the remote server chose $f=f_1$: \n",
    "</p>"
   ]
  },
  {
   "cell_type": "code",
   "execution_count": 4,
   "metadata": {},
   "outputs": [
    {
     "data": {
      "image/png": "[encoded data removed]",
      "text/plain": [
       "<Figure size 468.356x204.68 with 1 Axes>"
      ]
     },
     "execution_count": 4,
     "metadata": {},
     "output_type": "execute_result"
    }
   ],
   "source": [
    "deutsch.cx(qr[0],qr[1])\n",
    "deutsch.h(qr[0])\n",
    "deutsch.measure(qr[0],crsingle[0])\n",
    "\n",
    "deutsch.draw(output='mpl')"
   ]
  },
  {
   "cell_type": "markdown",
   "metadata": {},
   "source": [
    "<p style='text-align: justify;'> In this particular example, all  the single qubit rotations and the final measure are perfromed by the party that wants to guess the properties of $f$, while the other party performs the $\\mathrm{CNOT}$. </p>"
   ]
  },
  {
   "cell_type": "markdown",
   "metadata": {},
   "source": [
    "### Experiment with Simulators <a id='simulation'></a>\n",
    "\n",
    "We can run the above circuit on the simulator. "
   ]
  },
  {
   "cell_type": "code",
   "execution_count": 5,
   "metadata": {},
   "outputs": [
    {
     "data": {
      "image/png": "[encoded data removed]",
      "text/plain": [
       "<Figure size 504x360 with 1 Axes>"
      ]
     },
     "execution_count": 5,
     "metadata": {},
     "output_type": "execute_result"
    }
   ],
   "source": [
    "# use local simulator\n",
    "backend = BasicAer.get_backend('qasm_simulator')\n",
    "shots = 1024\n",
    "results = execute(deutsch, backend=backend, shots=shots).result()\n",
    "answer = results.get_counts()\n",
    "\n",
    "plot_histogram(answer)"
   ]
  },
  {
   "cell_type": "markdown",
   "metadata": {},
   "source": [
    "# Deutsch-Josza Algorithm <a id='djalgorithm'> </a>"
   ]
  },
  {
   "cell_type": "markdown",
   "metadata": {},
   "source": [
    "In this section, we first introduce the Deutsch-Josza problem, and classical and quantum algorithms to solve it. We then implement the quantum algorithm using Qiskit, and run on a simulator and device."
   ]
  },
  {
   "cell_type": "markdown",
   "metadata": {},
   "source": [
    "We are given a hidden Boolean function $f$, which takes as as input a string of bits, and returns either $0$ or $1$, that is \n",
    "<center>$f(\\{x_0,x_1,x_2,...\\}) \\rightarrow 0 \\textrm{ or } 1 \\textrm{ , where } x_n \\textrm{ is } 0 \\textrm{ or } 1$.\n",
    "\n",
    "The property of the given Boolean function is that it is guaranteed to either be balanced or constant. A constant function returns all $0$'s or all $1$'s for any input, while a balanced function returns $0$'s for exactly half of all inputs and $1$'s for the other half. Our task is to determine whether the given function is balanced or constant. \n",
    "\n",
    "Note that the Deutsch-Josza problem is an $n$-bit extension of the single bit Deutsch problem. "
   ]
  },
  {
   "cell_type": "markdown",
   "metadata": {},
   "source": [
    "### Classical Solution <a id='djclassic'> </a>"
   ]
  },
  {
   "cell_type": "markdown",
   "metadata": {},
   "source": [
    "Classically, in the best case, two queries to the oracle can determine if the hidden Boolean function, $f(x)$, is balanced: \n",
    "e.g. if we get both $f(0,0,0,... \\rightarrow 0)$ and $f(1,0,0,... \\rightarrow 1)$ we know the function is balanced as  we have obtained the two different outputs.  \n",
    "\n",
    "In the worst case, if we continue to see the same output for each input we try, we will have to check exactly $2^{n-1}+1$ inputs to be certain that $f(x)$ is constant: \n",
    "e.g. for a $4$-bit string, if we checked $8$ out of the $16$ possible combinations, getting all $0$'s, it is still possible that the $9^\\textrm{th}$ input returns a $1$ and $f(x)$ is balanced. Probabilistically, this is a very unlikely event. In fact, if we get the same result continually in succession, we can express the probability that the function is constant as a function of $k$ inputs as:\n",
    "$$ P_\\textrm{constant}(k) = 1 - \\frac{1}{2^{k-1}} \\qquad \\textrm{for } k \\leq 2^{n-1}$$\n",
    "Realistically, we could opt to truncate our classical algorithm early, say if we were over x% confident. But if we want to be 100% confident, we would need to check $2^{n-1}+1$ inputs."
   ]
  },
  {
   "cell_type": "markdown",
   "metadata": {},
   "source": [
    "#### Quantum Solution <a id='quantum'> </a>\n",
    "\n",
    "Using a quantum computer, we can solve this problem with 100% confidence after only one call to the function $f(x)$, provided we have the function $f$ implemented as a quantum oracle, which maps the state $\\vert x\\rangle \\vert y\\rangle $ to $ \\vert x\\rangle \\vert y \\oplus f(x)\\rangle$, where $\\oplus$ is addition modulo $2$. Below is the generic circuit for the Deutsh-Josza algorithm.\n",
    "\n",
    "<img src=\"images/deutsch_steps.png\" width=\"600\">\n",
    "\n",
    "Now, let's go through the steps of the algorithm:\n",
    "\n",
    "<ol>\n",
    "   <li>\n",
    "        Prepare two quantum registers. The first is an $n$-qubit register initialised to $\\vert 0 \\rangle$, and the second is a one-qubit register initialised to $\\vert 1\\rangle$:\n",
    "        $$\\vert \\psi_0 \\rangle = \\vert0\\rangle^{\\otimes n} \\vert 1\\rangle$$\n",
    "   </li>\n",
    "    \n",
    "   <li>\n",
    "        Apply a Hadamard gate to each qubit:\n",
    "        $$\\vert \\psi_1 \\rangle = \\frac{1}{\\sqrt{2^{n+1}}}\\sum_{x=0}^{2^n-1} \\vert x\\rangle \\vert 0\\rangle - \\vert 1 \\rangle$$\n",
    "   </li>\n",
    "   \n",
    "   <li>\n",
    "        Apply the quantum oracle $\\vert x\\rangle \\vert y\\rangle $ to $ \\vert x\\rangle \\vert y \\oplus f(x)\\rangle$:\n",
    "        \\begin{aligned}\n",
    "            \\lvert \\psi_2 \\rangle  \n",
    "                & = \\frac{1}{\\sqrt{2^{n+1}}}\\sum_{x=0}^{2^n-1} \\vert x\\rangle (\\vert f(x)\\rangle - \\vert 1 \\oplus f(x)\\rangle) \\\\  \n",
    "                & = \\frac{1}{\\sqrt{2^{n+1}}}\\sum_{x=0}^{2^n-1}(-1)^{f(x)}|x\\rangle ( |0\\rangle - |1\\rangle ) \n",
    "        \\end{aligned}\n",
    "        since each $x,f(x)$ is either $0$ or $1$.\n",
    "   </li>\n",
    "\n",
    "   <li>\n",
    "       At this point the second single qubit register may be ignored. Apply a Hadamard gate to each qubit in the first register:\n",
    "        \\begin{aligned}\n",
    "            \\lvert \\psi_3 \\rangle \n",
    "                & = \\frac{1}{2^n}\\sum_{x=0}^{2^n-1}(-1)^{f(x)}\n",
    "                    \\left[ \\sum_{y=0}^{2^n-1}(-1)^{x \\cdot y} \n",
    "                    \\vert y \\rangle \\right] \\\\\n",
    "                & = \\frac{1}{2^n}\\sum_{y=0}^{2^n-1}\n",
    "                    \\left[ \\sum_{x=0}^{2^n-1}(-1)^{f(x)}(-1)^{x \\cdot y} \\right]\n",
    "                    \\vert y \\rangle\n",
    "        \\end{aligned}\n",
    "        where $x \\cdot y = x_0y_0 \\oplus x_1y_1 \\oplus \\ldots \\oplus x_{n-1}y_{n-1}$ is the sum of the bitwise product.\n",
    "   </li>\n",
    "\n",
    "   <li>\n",
    "       Measure the first register. Notice that the probability of measuring $\\vert 0 \\rangle ^{\\otimes n} = \\lvert \\frac{1}{2^n}\\sum_{x=0}^{2^n-1}(-1)^{f(x)} \\rvert^2$, which evaluates to $1$ if $f(x)$ is constant and $0$ if $f(x)$ is balanced. \n",
    "   </li>\n",
    "\n",
    "</ol>\n",
    "\n",
    "**Why does this work?**\n",
    "\n",
    "$\\qquad$ When the hidden Boolean function is *constant*, the quantum states before and after querying the oracle are the same. The inverse of the Hadamard gate is the Hadamard gate itself. Thus, by Step 4, we essentially reverse Step 2 to obtain the initial quantum state of all-zero at the first register.  \n",
    "\n",
    "$\\qquad$ When the hidden Boolean function is *balanced*, the quantum state after querying the oracle is orthogonal to the quantum state before querying the oracle. Thus, by Step 4, when reverting the operation, we must end up with a quantum state that is orthogonal to the initial quantum state of all-zero at the first register. This means we should never obtain the all-zero state. \n"
   ]
  },
  {
   "cell_type": "markdown",
   "metadata": {},
   "source": [
    "##### Quantum Oracle\n",
    "\n",
    "The key to the Deutsch-Josza Algorithm is the implementation of the quantum oracle. \n",
    "\n",
    "For a constant function, it is simple:\n",
    "\n",
    "$\\qquad$ 1. if f(x) = 0, then apply the $I$ gate to the qubit in register 2.  \n",
    "$\\qquad$ 2. if f(x) = 1, then apply the $X$ gate to the qubit in register 2.\n",
    "\n",
    "For a balanced function, it is more complicated:\n",
    "\n",
    "$\\qquad$ There are $2^{n}-1$ different hidden bitstring configurations for an $n$-bit balanced function oracle. These can be defined by one of the bitstrings from $1$ to $2^n-1$ inclusive. Given a particular hidden bitstring, $a$, the oracle is the bitwise product of $x$ and $a$, which is implemented as a multi-qubit f-controlled-NOT gate with the second register, as per Reference [2]. "
   ]
  },
  {
   "cell_type": "markdown",
   "metadata": {},
   "source": [
    "### Example  <a id='example'></a>\n",
    "\n",
    "Let's go through a specfic example for a two bit balanced function with hidden bitstring $a = 3$.\n",
    "\n",
    "<ol>\n",
    "    <li> The first register of two qubits is initialized to zero and the second register qubit to one \n",
    "    $$\\lvert \\psi_0 \\rangle = \\lvert 0 0 \\rangle_1 \\lvert 1 \\rangle_2 $$ \n",
    "   </li>\n",
    "    \n",
    "   <li> Apply Hadamard on all qubits\n",
    "    $$\\lvert \\psi_1 \\rangle = \\frac{1}{2} \\left( \\lvert 0 0 \\rangle_1 + \\lvert 0 1 \\rangle_1 + \\lvert 1 0 \\rangle_1 + \\lvert 1 1 \\rangle_1 \\right) \\frac{1}{\\sqrt{2}} \\left( \\lvert 0 \\rangle_2 - \\lvert 1 \\rangle_2 \\right)  $$ \n",
    "   </li>\n",
    "    \n",
    "   <li> For $a=3$, (11 in binary) the oracle function can be implemented as $\\text{Q}_f = CX_{1a}CX_{2a}$, \n",
    "       \\begin{align*}\n",
    "            \\lvert \\psi_2 \\rangle =  \\frac{1}{2\\sqrt{2}} \\left[ \\lvert 0 0 \\rangle_1 \\left( \\lvert 0 \\oplus 0 \\oplus 0 \\rangle_2 - \\lvert 1 \\oplus 0 \\oplus 0 \\rangle_2 \\right) \\\\\n",
    "                  + \\lvert 0 1 \\rangle_1 \\left( \\lvert 0 \\oplus 0 \\oplus 1 \\rangle_2 - \\lvert 1 \\oplus 0 \\oplus 1 \\rangle_2 \\right) \\\\\n",
    "                  + \\lvert 1 0 \\rangle_1 \\left( \\lvert 0 \\oplus 1 \\oplus 0 \\rangle_2 - \\lvert 1 \\oplus 1 \\oplus 0 \\rangle_2 \\right) \\\\\n",
    "                  + \\lvert 1 1 \\rangle_1 \\left( \\lvert 0 \\oplus 1 \\oplus 1 \\rangle_2 - \\lvert 1 \\oplus 1 \\oplus 1 \\rangle_2 \\right) \\right]\n",
    "        \\end{align*}\n",
    "   </li>\n",
    "    \n",
    "   Thus\n",
    "       \\begin{aligned}\n",
    "        \\lvert \\psi_2 \\rangle & = \\frac{1}{2\\sqrt{2}} \\left[ \\lvert 0 0 \\rangle_1 \\left( \\lvert 0 \\rangle_2 - \\lvert 1 \\rangle_2 \\right) - \\lvert 0 1 \\rangle_1  \\left( \\lvert 0 \\rangle_2 - \\lvert  1 \\rangle_2 \\right) - \\lvert 1 0 \\rangle_1  \\left( \\lvert 0  \\rangle_2 - \\lvert 1 \\rangle_2 \\right) + \\lvert 1 1 \\rangle_1  \\left( \\lvert 0 \\rangle_2 - \\lvert 1 \\rangle_2 \\right)  \\right] \\\\\n",
    "        & = \\frac{1}{2} \\left( \\lvert 0 0 \\rangle_1 - \\lvert 0 1 \\rangle_1 - \\lvert 1 0 \\rangle_1 + \\lvert 1 1 \\rangle_1 \\right) \\frac{1}{\\sqrt{2}} \\left( \\lvert 0 \\rangle_2 - \\lvert 1 \\rangle_2 \\right)  \\\\\n",
    "        & = \\frac{1}{\\sqrt{2}} \\left( \\lvert 0 \\rangle_{10} - \\lvert 1 \\rangle_{10} \\right)\\frac{1}{\\sqrt{2}} \\left( \\lvert 0 \\rangle_{11} - \\lvert 1 \\rangle_{11} \\right)\\frac{1}{\\sqrt{2}} \\left( \\lvert 0 \\rangle_2 - \\lvert 1 \\rangle_2 \\right)\n",
    "        \\end{aligned}\n",
    "   </li>\n",
    "    \n",
    "    \n",
    "   <li> Apply Hadamard on the first register\n",
    "        $$ \\lvert \\psi_3\\rangle = \\lvert 1 \\rangle_{10} \\lvert 1 \\rangle_{11}  \\left( \\lvert 0 \\rangle_2 - \\lvert 1 \\rangle_2 \\right) \n",
    "        $$\n",
    "   </li>\n",
    "   \n",
    "   <li> Measuring the first two qubits will give the non-zero $11$, indicating a balanced function.\n",
    "   </li>\n",
    "</ol>\n"
   ]
  },
  {
   "cell_type": "markdown",
   "metadata": {},
   "source": [
    "## 3. Qiskit Implementation <a id='implementation'></a>\n",
    "\n",
    "We now implement the Deutsch-Josza algorithm for the example of a two bit balanced function with hidden bitstring $a = 3$."
   ]
  },
  {
   "cell_type": "code",
   "execution_count": 6,
   "metadata": {},
   "outputs": [],
   "source": [
    "# set the length of the $n$-bit string. \n",
    "n = 2\n",
    "\n",
    "# set the oracle, b for balanced, c for constant\n",
    "oracle = \"b\"\n",
    "\n",
    "# if the oracle is balanced, set the hidden bitstring, b\n",
    "if oracle == \"b\":\n",
    "    b = 3 # np.random.randint(1,2**n) uncomment for a random value\n",
    "\n",
    "# if the oracle is constant, set c = 0 or 1 randomly.\n",
    "if oracle == \"c\":\n",
    "    c = np.random.randint(2)"
   ]
  },
  {
   "cell_type": "code",
   "execution_count": 7,
   "metadata": {},
   "outputs": [],
   "source": [
    "# Creating registers\n",
    "# n qubits for querying the oracle and one qubit for storing the answer\n",
    "qr = QuantumRegister(n+1)\n",
    "cr = ClassicalRegister(n)\n",
    "\n",
    "djCircuit = QuantumCircuit(qr, cr)\n",
    "barriers = True\n",
    "\n",
    "# Since all qubits are initialized to |0>, we need to flip the second register qubit to the the |1> state\n",
    "djCircuit.x(qr[n])\n",
    "\n",
    "# Apply barrier \n",
    "if barriers:\n",
    "    djCircuit.barrier()\n",
    "\n",
    "# Apply Hadamard gates to all qubits\n",
    "djCircuit.h(qr)    \n",
    "    \n",
    "# Apply barrier \n",
    "if barriers:\n",
    "    djCircuit.barrier()\n",
    "\n",
    "# Query the oracle \n",
    "if oracle == \"c\": # if the oracle is constant, return c\n",
    "    if c == 1:\n",
    "        djCircuit.x(qr[n])\n",
    "    else:\n",
    "        djCircuit.iden(qr[n])\n",
    "else: # otherwise, the oracle is balanced and it returns the inner product of the input with b (non-zero bitstring) \n",
    "    for i in range(n):\n",
    "        if (b & (1 << i)):\n",
    "            djCircuit.cx(qr[i], qr[n])\n",
    "\n",
    "# Apply barrier \n",
    "if barriers:\n",
    "    djCircuit.barrier()\n",
    "\n",
    "# Apply Hadamard gates to the first register after querying the oracle\n",
    "for i in range(n):\n",
    "    djCircuit.h(qr[i])\n",
    "\n",
    "# Measure the first register\n",
    "for i in range(n):\n",
    "    djCircuit.measure(qr[i], cr[i])"
   ]
  },
  {
   "cell_type": "code",
   "execution_count": 8,
   "metadata": {},
   "outputs": [
    {
     "data": {
      "image/png": "[encoded data removed]",
      "text/plain": [
       "<Figure size 769.356x264.88 with 1 Axes>"
      ]
     },
     "execution_count": 8,
     "metadata": {},
     "output_type": "execute_result"
    }
   ],
   "source": [
    "djCircuit.draw(output='mpl')"
   ]
  },
  {
   "cell_type": "markdown",
   "metadata": {},
   "source": [
    "### Experiment with Simulators <a id='simulation'></a>\n",
    "\n",
    "We can run the above circuit on the simulator. "
   ]
  },
  {
   "cell_type": "code",
   "execution_count": 9,
   "metadata": {},
   "outputs": [
    {
     "data": {
      "image/png": "[encoded data removed]",
      "text/plain": [
       "<Figure size 504x360 with 1 Axes>"
      ]
     },
     "execution_count": 9,
     "metadata": {},
     "output_type": "execute_result"
    }
   ],
   "source": [
    "# use local simulator\n",
    "backend = BasicAer.get_backend('qasm_simulator')\n",
    "shots = 1024\n",
    "results = execute(djCircuit, backend=backend, shots=shots).result()\n",
    "answer = results.get_counts()\n",
    "\n",
    "plot_histogram(answer)"
   ]
  },
  {
   "cell_type": "markdown",
   "metadata": {},
   "source": [
    "We can see that the result of the measurement is $11$ as expected."
   ]
  },
  {
   "cell_type": "markdown",
   "metadata": {},
   "source": [
    "### Experiment with Real Devices <a id='device'></a>\n",
    "\n",
    "We can run the circuit on the real device as shown below."
   ]
  },
  {
   "cell_type": "code",
   "execution_count": 12,
   "metadata": {},
   "outputs": [
    {
     "data": {
      "text/plain": [
       "[<IBMQSimulator('ibmq_qasm_simulator') from IBMQ(hub='ibm-q', group='open', project='main')>,\n",
       " <IBMQBackend('ibmqx2') from IBMQ(hub='ibm-q', group='open', project='main')>,\n",
       " <IBMQBackend('ibmq_16_melbourne') from IBMQ(hub='ibm-q', group='open', project='main')>,\n",
       " <IBMQBackend('ibmq_vigo') from IBMQ(hub='ibm-q', group='open', project='main')>,\n",
       " <IBMQBackend('ibmq_ourense') from IBMQ(hub='ibm-q', group='open', project='main')>,\n",
       " <IBMQBackend('ibmq_london') from IBMQ(hub='ibm-q', group='open', project='main')>,\n",
       " <IBMQBackend('ibmq_burlington') from IBMQ(hub='ibm-q', group='open', project='main')>,\n",
       " <IBMQBackend('ibmq_essex') from IBMQ(hub='ibm-q', group='open', project='main')>]"
      ]
     },
     "execution_count": 12,
     "metadata": {},
     "output_type": "execute_result"
    }
   ],
   "source": [
    "# Load our saved IBMQ accounts and get the least busy backend device with less than or equal to 5 qubits\n",
    "#IBMQ.load_account()\n",
    "provider = IBMQ.get_provider(hub='ibm-q')\n",
    "provider.backends()"
   ]
  },
  {
   "cell_type": "code",
   "execution_count": 13,
   "metadata": {},
   "outputs": [
    {
     "ename": "RequestsApiError",
     "evalue": "524 Server Error: Origin Time-out for url: https://api.quantum-computing.ibm.com/api/Network/ibm-q/Groups/open/Projects/main/devices/ibmqx2/queue/status?access_token=...",
     "output_type": "error",
     "traceback": [
      "\u001b[0;31m---------------------------------------------------------------------------\u001b[0m",
      "\u001b[0;31mRequestsApiError\u001b[0m                          Traceback (most recent call last)",
      "\u001b[0;32m<ipython-input-13-4696bf1243cd>\u001b[0m in \u001b[0;36m<module>\u001b[0;34m\u001b[0m\n\u001b[0;32m----> 1\u001b[0;31m backend = least_busy(provider.backends(filters=lambda x: x.configuration().n_qubits <= 5 and \n\u001b[0m\u001b[1;32m      2\u001b[0m                                    not x.configuration().simulator and x.status().operational==True))\n",
      "\u001b[0;32m~/anaconda3/envs/Qiskitenv/lib/python3.7/site-packages/qiskit/providers/ibmq/accountprovider.py\u001b[0m in \u001b[0;36mbackends\u001b[0;34m(self, name, filters, **kwargs)\u001b[0m\n\u001b[1;32m     85\u001b[0m             \u001b[0mkwargs\u001b[0m\u001b[0;34m[\u001b[0m\u001b[0;34m'backend_name'\u001b[0m\u001b[0;34m]\u001b[0m \u001b[0;34m=\u001b[0m \u001b[0mname\u001b[0m\u001b[0;34m\u001b[0m\u001b[0;34m\u001b[0m\u001b[0m\n\u001b[1;32m     86\u001b[0m \u001b[0;34m\u001b[0m\u001b[0m\n\u001b[0;32m---> 87\u001b[0;31m         \u001b[0;32mreturn\u001b[0m \u001b[0mfilter_backends\u001b[0m\u001b[0;34m(\u001b[0m\u001b[0mbackends\u001b[0m\u001b[0;34m,\u001b[0m \u001b[0mfilters\u001b[0m\u001b[0;34m=\u001b[0m\u001b[0mfilters\u001b[0m\u001b[0;34m,\u001b[0m \u001b[0;34m**\u001b[0m\u001b[0mkwargs\u001b[0m\u001b[0;34m)\u001b[0m\u001b[0;34m\u001b[0m\u001b[0;34m\u001b[0m\u001b[0m\n\u001b[0m\u001b[1;32m     88\u001b[0m \u001b[0;34m\u001b[0m\u001b[0m\n\u001b[1;32m     89\u001b[0m     \u001b[0;32mdef\u001b[0m \u001b[0m_discover_remote_backends\u001b[0m\u001b[0;34m(\u001b[0m\u001b[0mself\u001b[0m\u001b[0;34m)\u001b[0m\u001b[0;34m:\u001b[0m\u001b[0;34m\u001b[0m\u001b[0;34m\u001b[0m\u001b[0m\n",
      "\u001b[0;32m~/anaconda3/envs/Qiskitenv/lib/python3.7/site-packages/qiskit/providers/providerutils.py\u001b[0m in \u001b[0;36mfilter_backends\u001b[0;34m(backends, filters, **kwargs)\u001b[0m\n\u001b[1;32m     65\u001b[0m \u001b[0;34m\u001b[0m\u001b[0m\n\u001b[1;32m     66\u001b[0m     \u001b[0;31m# 3. Apply acceptor filter.\u001b[0m\u001b[0;34m\u001b[0m\u001b[0;34m\u001b[0m\u001b[0;34m\u001b[0m\u001b[0m\n\u001b[0;32m---> 67\u001b[0;31m     \u001b[0mbackends\u001b[0m \u001b[0;34m=\u001b[0m \u001b[0mlist\u001b[0m\u001b[0;34m(\u001b[0m\u001b[0mfilter\u001b[0m\u001b[0;34m(\u001b[0m\u001b[0mfilters\u001b[0m\u001b[0;34m,\u001b[0m \u001b[0mbackends\u001b[0m\u001b[0;34m)\u001b[0m\u001b[0;34m)\u001b[0m\u001b[0;34m\u001b[0m\u001b[0;34m\u001b[0m\u001b[0m\n\u001b[0m\u001b[1;32m     68\u001b[0m \u001b[0;34m\u001b[0m\u001b[0m\n\u001b[1;32m     69\u001b[0m     \u001b[0;32mreturn\u001b[0m \u001b[0mbackends\u001b[0m\u001b[0;34m\u001b[0m\u001b[0;34m\u001b[0m\u001b[0m\n",
      "\u001b[0;32m<ipython-input-13-4696bf1243cd>\u001b[0m in \u001b[0;36m<lambda>\u001b[0;34m(x)\u001b[0m\n\u001b[1;32m      1\u001b[0m backend = least_busy(provider.backends(filters=lambda x: x.configuration().n_qubits <= 5 and \n\u001b[0;32m----> 2\u001b[0;31m                                    not x.configuration().simulator and x.status().operational==True))\n\u001b[0m",
      "\u001b[0;32m~/anaconda3/envs/Qiskitenv/lib/python3.7/site-packages/qiskit/providers/ibmq/ibmqbackend.py\u001b[0m in \u001b[0;36mstatus\u001b[0;34m(self)\u001b[0m\n\u001b[1;32m    110\u001b[0m             \u001b[0mIBMQBackendError\u001b[0m\u001b[0;34m:\u001b[0m \u001b[0mIf\u001b[0m \u001b[0mthe\u001b[0m \u001b[0mstatus\u001b[0m \u001b[0mcan\u001b[0m\u001b[0;31m'\u001b[0m\u001b[0mt\u001b[0m \u001b[0mbe\u001b[0m \u001b[0mformatted\u001b[0m \u001b[0mproperly\u001b[0m\u001b[0;34m.\u001b[0m\u001b[0;34m\u001b[0m\u001b[0;34m\u001b[0m\u001b[0m\n\u001b[1;32m    111\u001b[0m         \"\"\"\n\u001b[0;32m--> 112\u001b[0;31m         \u001b[0mapi_status\u001b[0m \u001b[0;34m=\u001b[0m \u001b[0mself\u001b[0m\u001b[0;34m.\u001b[0m\u001b[0m_api\u001b[0m\u001b[0;34m.\u001b[0m\u001b[0mbackend_status\u001b[0m\u001b[0;34m(\u001b[0m\u001b[0mself\u001b[0m\u001b[0;34m.\u001b[0m\u001b[0mname\u001b[0m\u001b[0;34m(\u001b[0m\u001b[0;34m)\u001b[0m\u001b[0;34m)\u001b[0m\u001b[0;34m\u001b[0m\u001b[0;34m\u001b[0m\u001b[0m\n\u001b[0m\u001b[1;32m    113\u001b[0m \u001b[0;34m\u001b[0m\u001b[0m\n\u001b[1;32m    114\u001b[0m         \u001b[0;32mtry\u001b[0m\u001b[0;34m:\u001b[0m\u001b[0;34m\u001b[0m\u001b[0;34m\u001b[0m\u001b[0m\n",
      "\u001b[0;32m~/anaconda3/envs/Qiskitenv/lib/python3.7/site-packages/qiskit/providers/ibmq/api_v2/clients/account.py\u001b[0m in \u001b[0;36mbackend_status\u001b[0;34m(self, backend_name)\u001b[0m\n\u001b[1;32m     62\u001b[0m             \u001b[0mdict\u001b[0m\u001b[0;34m:\u001b[0m \u001b[0mbackend\u001b[0m \u001b[0mstatus\u001b[0m\u001b[0;34m.\u001b[0m\u001b[0;34m\u001b[0m\u001b[0;34m\u001b[0m\u001b[0m\n\u001b[1;32m     63\u001b[0m         \"\"\"\n\u001b[0;32m---> 64\u001b[0;31m         \u001b[0;32mreturn\u001b[0m \u001b[0mself\u001b[0m\u001b[0;34m.\u001b[0m\u001b[0mclient_api\u001b[0m\u001b[0;34m.\u001b[0m\u001b[0mbackend\u001b[0m\u001b[0;34m(\u001b[0m\u001b[0mbackend_name\u001b[0m\u001b[0;34m)\u001b[0m\u001b[0;34m.\u001b[0m\u001b[0mstatus\u001b[0m\u001b[0;34m(\u001b[0m\u001b[0;34m)\u001b[0m\u001b[0;34m\u001b[0m\u001b[0;34m\u001b[0m\u001b[0m\n\u001b[0m\u001b[1;32m     65\u001b[0m \u001b[0;34m\u001b[0m\u001b[0m\n\u001b[1;32m     66\u001b[0m     \u001b[0;32mdef\u001b[0m \u001b[0mbackend_properties\u001b[0m\u001b[0;34m(\u001b[0m\u001b[0mself\u001b[0m\u001b[0;34m,\u001b[0m \u001b[0mbackend_name\u001b[0m\u001b[0;34m)\u001b[0m\u001b[0;34m:\u001b[0m\u001b[0;34m\u001b[0m\u001b[0;34m\u001b[0m\u001b[0m\n",
      "\u001b[0;32m~/anaconda3/envs/Qiskitenv/lib/python3.7/site-packages/qiskit/providers/ibmq/api_v2/rest/backend.py\u001b[0m in \u001b[0;36mstatus\u001b[0;34m(self)\u001b[0m\n\u001b[1;32m     56\u001b[0m         \u001b[0;34m\"\"\"Return backend status.\"\"\"\u001b[0m\u001b[0;34m\u001b[0m\u001b[0;34m\u001b[0m\u001b[0m\n\u001b[1;32m     57\u001b[0m         \u001b[0murl\u001b[0m \u001b[0;34m=\u001b[0m \u001b[0mself\u001b[0m\u001b[0;34m.\u001b[0m\u001b[0mget_url\u001b[0m\u001b[0;34m(\u001b[0m\u001b[0;34m'status'\u001b[0m\u001b[0;34m)\u001b[0m\u001b[0;34m\u001b[0m\u001b[0;34m\u001b[0m\u001b[0m\n\u001b[0;32m---> 58\u001b[0;31m         \u001b[0mresponse\u001b[0m \u001b[0;34m=\u001b[0m \u001b[0mself\u001b[0m\u001b[0;34m.\u001b[0m\u001b[0msession\u001b[0m\u001b[0;34m.\u001b[0m\u001b[0mget\u001b[0m\u001b[0;34m(\u001b[0m\u001b[0murl\u001b[0m\u001b[0;34m)\u001b[0m\u001b[0;34m.\u001b[0m\u001b[0mjson\u001b[0m\u001b[0;34m(\u001b[0m\u001b[0;34m)\u001b[0m\u001b[0;34m\u001b[0m\u001b[0;34m\u001b[0m\u001b[0m\n\u001b[0m\u001b[1;32m     59\u001b[0m \u001b[0;34m\u001b[0m\u001b[0m\n\u001b[1;32m     60\u001b[0m         \u001b[0;31m# Adjust fields according to the specs (BackendStatus).\u001b[0m\u001b[0;34m\u001b[0m\u001b[0;34m\u001b[0m\u001b[0;34m\u001b[0m\u001b[0m\n",
      "\u001b[0;32m~/anaconda3/envs/Qiskitenv/lib/python3.7/site-packages/requests/sessions.py\u001b[0m in \u001b[0;36mget\u001b[0;34m(self, url, **kwargs)\u001b[0m\n\u001b[1;32m    544\u001b[0m \u001b[0;34m\u001b[0m\u001b[0m\n\u001b[1;32m    545\u001b[0m         \u001b[0mkwargs\u001b[0m\u001b[0;34m.\u001b[0m\u001b[0msetdefault\u001b[0m\u001b[0;34m(\u001b[0m\u001b[0;34m'allow_redirects'\u001b[0m\u001b[0;34m,\u001b[0m \u001b[0;32mTrue\u001b[0m\u001b[0;34m)\u001b[0m\u001b[0;34m\u001b[0m\u001b[0;34m\u001b[0m\u001b[0m\n\u001b[0;32m--> 546\u001b[0;31m         \u001b[0;32mreturn\u001b[0m \u001b[0mself\u001b[0m\u001b[0;34m.\u001b[0m\u001b[0mrequest\u001b[0m\u001b[0;34m(\u001b[0m\u001b[0;34m'GET'\u001b[0m\u001b[0;34m,\u001b[0m \u001b[0murl\u001b[0m\u001b[0;34m,\u001b[0m \u001b[0;34m**\u001b[0m\u001b[0mkwargs\u001b[0m\u001b[0;34m)\u001b[0m\u001b[0;34m\u001b[0m\u001b[0;34m\u001b[0m\u001b[0m\n\u001b[0m\u001b[1;32m    547\u001b[0m \u001b[0;34m\u001b[0m\u001b[0m\n\u001b[1;32m    548\u001b[0m     \u001b[0;32mdef\u001b[0m \u001b[0moptions\u001b[0m\u001b[0;34m(\u001b[0m\u001b[0mself\u001b[0m\u001b[0;34m,\u001b[0m \u001b[0murl\u001b[0m\u001b[0;34m,\u001b[0m \u001b[0;34m**\u001b[0m\u001b[0mkwargs\u001b[0m\u001b[0;34m)\u001b[0m\u001b[0;34m:\u001b[0m\u001b[0;34m\u001b[0m\u001b[0;34m\u001b[0m\u001b[0m\n",
      "\u001b[0;32m~/anaconda3/envs/Qiskitenv/lib/python3.7/site-packages/qiskit/providers/ibmq/api_v2/session.py\u001b[0m in \u001b[0;36mrequest\u001b[0;34m(self, method, url, bare, **kwargs)\u001b[0m\n\u001b[1;32m    164\u001b[0m                 \u001b[0mmessage\u001b[0m \u001b[0;34m=\u001b[0m \u001b[0mmessage\u001b[0m\u001b[0;34m.\u001b[0m\u001b[0mreplace\u001b[0m\u001b[0;34m(\u001b[0m\u001b[0mself\u001b[0m\u001b[0;34m.\u001b[0m\u001b[0maccess_token\u001b[0m\u001b[0;34m,\u001b[0m \u001b[0;34m'...'\u001b[0m\u001b[0;34m)\u001b[0m\u001b[0;34m\u001b[0m\u001b[0;34m\u001b[0m\u001b[0m\n\u001b[1;32m    165\u001b[0m \u001b[0;34m\u001b[0m\u001b[0m\n\u001b[0;32m--> 166\u001b[0;31m             \u001b[0;32mraise\u001b[0m \u001b[0mRequestsApiError\u001b[0m\u001b[0;34m(\u001b[0m\u001b[0mex\u001b[0m\u001b[0;34m,\u001b[0m \u001b[0mmessage\u001b[0m\u001b[0;34m)\u001b[0m \u001b[0;32mfrom\u001b[0m \u001b[0;32mNone\u001b[0m\u001b[0;34m\u001b[0m\u001b[0;34m\u001b[0m\u001b[0m\n\u001b[0m\u001b[1;32m    167\u001b[0m \u001b[0;34m\u001b[0m\u001b[0m\n\u001b[1;32m    168\u001b[0m         \u001b[0;32mreturn\u001b[0m \u001b[0mresponse\u001b[0m\u001b[0;34m\u001b[0m\u001b[0;34m\u001b[0m\u001b[0m\n",
      "\u001b[0;31mRequestsApiError\u001b[0m: 524 Server Error: Origin Time-out for url: https://api.quantum-computing.ibm.com/api/Network/ibm-q/Groups/open/Projects/main/devices/ibmqx2/queue/status?access_token=..."
     ]
    }
   ],
   "source": [
    "backend = least_busy(provider.backends(filters=lambda x: x.configuration().n_qubits <= 5 and \n",
    "                                   not x.configuration().simulator and x.status().operational==True))"
   ]
  },
  {
   "cell_type": "code",
   "execution_count": null,
   "metadata": {},
   "outputs": [],
   "source": [
    "# Run our circuit on the least busy backend. Monitor the execution of the job in the queue\n",
    "from qiskit.tools.monitor import job_monitor\n",
    "\n",
    "shots = 1024\n",
    "job = execute(djCircuit, backend=backend, shots=shots)\n",
    "\n",
    "job_monitor(job, interval = 2)"
   ]
  },
  {
   "cell_type": "code",
   "execution_count": null,
   "metadata": {},
   "outputs": [],
   "source": [
    "# Get the results of the computation\n",
    "results = job.result()\n",
    "answer = results.get_counts()\n",
    "\n",
    "plot_histogram(answer)"
   ]
  },
  {
   "cell_type": "markdown",
   "metadata": {},
   "source": [
    "As we can see, most of the results are $11$. The other results are due to errors in the quantum computation. "
   ]
  },
  {
   "cell_type": "markdown",
   "metadata": {},
   "source": [
    "## Problems <a id='problems'></a>\n",
    "\n",
    "1. The above [implementation](#implementation) of Deutsch-Josza is for a balanced function with a two bit input of 3. Modify the implementation for a constant function. Are the results what you expect? Explain.\n",
    "2. The above [implementation](#implementation) of Deutsch-Josza is for a balanced function with a two bit random input. Modify the implementation for a balanced function with a 4 bit input of 13. Are the results what you expect? Explain."
   ]
  },
  {
   "cell_type": "markdown",
   "metadata": {},
   "source": [
    "## _Bonus track_: The Quantum Fourier Transform\n",
    "\n",
    "<p style='text-align: justify;'> Let $x = \\left(x_0,\\dots,x_{n-1}\\right)$ be a $n$-dimensional vector of complex numbers. We define the Discrete Fourier Transform of $x$ the vector $y$ with components\n",
    "$$\n",
    "y_k = \\frac{1}{\\sqrt{n}}\\sum_{j = 0}^{n-1}x_j e^{i2\\pi j \\frac{k}{n}} \\qquad k = 0,\\dots,n-1\n",
    "$$\n",
    "If we take $j\\in\\{0,n-1\\}$ and we call $\\left| j\\right\\rangle$ a quantum state of $N$ qubits that is a $N$-bit representation  of $j$ on the computational basis (for example, if $j = 4$ and $N = 3$ we have $\\left| j\\right\\rangle = \\left| 100\\right\\rangle \\equiv \\left| 1\\right\\rangle\\left| 0\\right\\rangle\\left| 0\\right\\rangle$) we can define the Quantum Fourier Transform (QFT) as the unitary transformation\n",
    "$$\n",
    "\\left| j\\right\\rangle \\rightarrow \\frac{1}{\\sqrt{n}}\\sum_{k=0}^{n-1}e^{i2\\pi j \\frac{k}{n}} \\left| k\\right\\rangle\n",
    "$$\n",
    "The main advantage of the QFT as compared with the classical counterpart it that it can be efficiently (i.e. with a number of elementary operation polinomial in the size $n$ of the input) implemented on a quantum computer. Without going through all the details of the derivation, which you can for example find in the book by Nielsen and Chuang recommended at the beginning of the algorithms section of this notebook, we present here the general structure of a unitary circuit implementing QFT. After preparing your $N$ qubit register in the input state $\\left| j\\right\\rangle$ by applying for example suitable single qubit rotations (e.g. $\\mathrm{X}$ gates), the standard QFT algorithm contains only two types of gates, namely Hadamard single qubit rotations and controlled phase rotations $\\mathrm{CPHASE}(\\delta)$, and can be constructed using the following procedure:</p>\n",
    "\n",
    "```\n",
    "for i = 1 to N do:\n",
    "    apply H to qubit i in your register\n",
    "    for k = i+1 to N do:\n",
    "        l = k-i+1\n",
    "        apply CPHASE(2*pi*(1/2^l)) with qubit i as target and qubit k as control\n",
    "```\n",
    "\n",
    "<p style='text-align: justify;'> Final $\\mathrm{SWAP}$ gates are then needed to reverse the order of the output qubits. Here is an example code for QFT in qiskit (without the initial preparation of the input state $\\left| j\\right\\rangle$ and the final $\\mathrm{SWAP}$s), in principle valid for any $N$ and $n = 2^N$:</p>"
   ]
  },
  {
   "cell_type": "code",
   "execution_count": null,
   "metadata": {},
   "outputs": [],
   "source": [
    "N = 4\n",
    "qrQFT = QuantumRegister(N,'qftr')\n",
    "QFT = QuantumCircuit(qrQFT)\n",
    "\n",
    "for i in range(N):\n",
    "    QFT.h(qrQFT[i])\n",
    "    for k in range(i+1,N):\n",
    "        l = k-i+1\n",
    "        QFT.cu1(2*math.pi/(2**l),qrQFT[k],qrQFT[i])\n",
    "\n",
    "QFT.draw(output='mpl')"
   ]
  },
  {
   "cell_type": "markdown",
   "metadata": {},
   "source": [
    "## 5. References <a id='references'></a>\n",
    "\n",
    "1. David Deutsch and Richard Jozsa (1992). \"Rapid solutions of problems by quantum computation\". Proceedings of the Royal Society of London A. 439: 553–558.  [doi:10.1098/rspa.1992.0167](https://doi.org/10.1098%2Frspa.1992.0167).\n",
    "2. R. Cleve; A. Ekert; C. Macchiavello; M. Mosca (1998). \"Quantum algorithms revisited\". Proceedings of the Royal Society of London A. 454: 339–354. [doi:10.1098/rspa.1998.0164](https://doi.org/10.1098%2Frspa.1998.0164)."
   ]
  },
  {
   "cell_type": "code",
   "execution_count": null,
   "metadata": {},
   "outputs": [],
   "source": [
    "import qiskit\n",
    "qiskit.__qiskit_version__"
   ]
  }
 ],
 "metadata": {
  "kernelspec": {
   "display_name": "Python (Qiskitenv)",
   "language": "python",
   "name": "qiskitenv"
  },
  "language_info": {
   "codemirror_mode": {
    "name": "ipython",
    "version": 3
   },
   "file_extension": ".py",
   "mimetype": "text/x-python",
   "name": "python",
   "nbconvert_exporter": "python",
   "pygments_lexer": "ipython3",
   "version": "3.7.4"
  }
 },
 "nbformat": 4,
 "nbformat_minor": 2
}

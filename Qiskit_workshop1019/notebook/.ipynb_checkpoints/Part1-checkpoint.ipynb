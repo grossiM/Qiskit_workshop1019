{
 "cells": [
  {
   "cell_type": "markdown",
   "metadata": {},
   "source": [
    "# Part 1 - Fundamentals of Quantum Computing\n",
    "\n",
    "\n",
    "<p style='text-align: justify;'> In this chapter, we will present and discuss many basic concepts about quantum circuits and quantum algorithms. We will see how to implement and verify quantum gates and circuit identities in qiskit, and we will provide some examples of paradigmatic algorithms."
   ]
  },
  {
   "cell_type": "markdown",
   "metadata": {},
   "source": [
    "## Examples of quantum algorithms\n",
    "\n",
    "<p style='text-align: justify;'> In the final part of this notebook about qubits and gates, we are going to present a couple of paradigmatic quantum algorithms and see how they can be implemented in practice in qiskit. You can find many more examples by digging into the quantum computing literature: the book by Nielsen and Chuang, _Quantum Computation and Quantum Information_ is of course a good place to start, and you may want to have a look to this website as well: http://math.nist.gov/quantum/zoo/  (mirrored also at <http://quantumalgorithmzoo.org/>). Many interesting examples already implemented in qiskit are also available in the official qiskit tutorials. For didactic purposes, we present here only a very simple oracle-based algorithm (Deutsch's algorithm on $N=2$ qubits) and a slightly more advanced one (Quantum Fourier Transform on $N=3$ qubits). In [Part 2](./Part2.ipynb) we will explore more application-oriented algorithms for Digital Quantum Simulations.</p>"
   ]
  },
  {
   "cell_type": "markdown",
   "metadata": {},
   "source": [
    "### Quantum parallelism\n",
    "\n",
    "<p style='text-align: justify;'> A function $\\,f:\\{0,1\\}^n\\rightarrow\\{0,1\\}^m$ can be quantum computed via unitary operations. Usually, two separate qubit registers are used, with $n$ and $m$ qubits respectively. Then, if $x\\in\\{0,1\\}^n$ and $x\\in\\{0,1\\}^m$, what a quantum computer usually does is the following:\n",
    "$$\n",
    "\\mathrm{U}_f\\left|x\\right\\rangle\\left|y\\right\\rangle = \\left|x\\right\\rangle\\left|y\\oplus f(x)\\right\\rangle\n",
    "$$\n",
    "where $\\left|x\\right\\rangle$ and $\\left|y\\right\\rangle$ are states in the computational basis of $n$ and $m$ qubits respectively. Notice that the unitary $\\mathrm{U}_f$ acts on the Hilbert space of $n+m$ qubits in general. Usually, the second register is initialized in the blank state $\\left|y\\right\\rangle=\\left|0\\right\\rangle^{\\otimes m}$. If the state of the first register is prepared in a quantum superposition of all the computational basis states, then we obtain (for simplicity. let us first take $n=m=1$)\n",
    "$$\n",
    "\\mathrm{U}_f\\frac{1}{\\sqrt{2}}\\left(\\left|0\\right\\rangle+\\left|1\\right\\rangle\\right)\\left|0\\right\\rangle \\rightarrow \\frac{1}{\\sqrt{2}}\\left(\\left|0\\right\\rangle\\left|f(0)\\right\\rangle+\\left|1\\right\\rangle\\left|f(1)\\right\\rangle\\right)\n",
    "$$\n",
    "You can easily see that we were able to compute _all_ the possible outputs of $f$ with only one call to the unitary encoding the function. This can be of course generalized to arbitrary $n$ and $m$, and the equally weighted superposition of all the computational basis states can be efficiently obtained by using parallel Hadamard gates:\n",
    "$$\n",
    "\\mathrm{H}^{\\otimes n}\\left|0\\right\\rangle^{\\otimes n} = \\frac{1}{\\sqrt{2^n}}\\sum_{x\\in\\{0,1\\}^n}\\left|x\\right\\rangle\n",
    "$$\n",
    "Then, as above, we have\n",
    "$$\n",
    "\\mathrm{U}_f\\left(\\frac{1}{\\sqrt{2^n}}\\sum_{x\\in\\{0,1\\}^n}\\left|x\\right\\rangle\\right)\\left|0\\right\\rangle^{\\otimes m} = \\frac{1}{\\sqrt{2^n}}\\sum_{x\\in\\{0,1\\}^n}\\left|x\\right\\rangle\\left|f(x)\\right\\rangle\n",
    "$$\n",
    "Unfortunately, being able to quantum compute all the outputs of $f$ at once does not mean being able to _access_ such outputs efficiently. Indeed, with a direct measure in the computational basis we can only read one of the outputs at a time. How then can this form of quantum parallelism be useful? The answer, as shown below with Deutsch's algorithm, is that it can provide significant advantages whenever we are not interested in particular output values of $f$, but rather in studying the global properties of the function itself.\n",
    "</p>"
   ]
  },
  {
   "cell_type": "markdown",
   "metadata": {},
   "source": [
    "### Deutsch's algorithm (1985), $n = m = 1$\n",
    "\n",
    "<p style='text-align: justify;'> This algorithm belongs to the class of _oracle-based_ examples, and is formulated in terms of a black-box. The problem is the following: given a black-box unitary, the properties and implementation of which we must assume unknown, implementing a function $f: \\{0,1\\}\\rightarrow \\{0,1\\}$, decide whether $f(0) = f(1)$ or $f(0) \\neq f(1)$ using the oracle $\\mathrm{U}_f$ only _once_. Notice that such task is impossible classically, since we need at least two calls of the oracle, one for each possible input, to conclude. There are four different possible $f$ functions that the oracle actually implements:\n",
    "$$\n",
    "\\mathrm{A}: \\quad f_1(0) = 0 \\, , \\, f_1(1) = 1 \\quad \\text{or} \\quad f_2(0) = 1 \\, , \\, f_2(1) = 0\n",
    "$$\n",
    "$$\n",
    "\\mathrm{B}: \\quad f_3(0) = 0 \\, , \\, f_3(1) = 0 \\quad \\text{or} \\quad f_4(0) = 1 \\, , \\, f_4(1) = 1\n",
    "$$\n",
    "The functions labeled with $\\mathrm{A}$ have $f(0) \\neq f(1)$, while the ones labeled with $\\mathrm{B}$ have $f(0) = f(1)$. The task that we have to complete then reduces to distingushing between A-type and B-type functions. The algorithm solving the problem uses two single-qubit registers ($n = m = 1$) and starts from the state\n",
    "$$\n",
    "\\left|\\psi_0\\right\\rangle = \\left|0\\right\\rangle \\otimes \\frac{1}{\\sqrt{2}}\\left(\\left|0\\right\\rangle-\\left|1\\right\\rangle\\right)\n",
    "$$\n",
    "In qiskit, we can prepare it from the standard blank state $\\left|0\\right\\rangle \\otimes \\left|0\\right\\rangle$ by applying a $\\mathrm{H}$ after a $\\mathrm{X}$ on the second qubit:\n",
    "</p>"
   ]
  },
  {
   "cell_type": "code",
   "execution_count": null,
   "metadata": {
    "collapsed": true
   },
   "outputs": [],
   "source": [
    "crsingle = qk.ClassicalRegister(1)\n",
    "deutsch = qk.QuantumCircuit(qr,crsingle)\n",
    "\n",
    "deutsch.x(qr[1])\n",
    "deutsch.h(qr[1])\n",
    "\n",
    "deutsch.draw(output='mpl')"
   ]
  },
  {
   "cell_type": "markdown",
   "metadata": {},
   "source": [
    "<p style='text-align: justify;'> Now, in order to profit from the quantum parallelism idea, we create a superposition of computational basis states in the first register by applying a $\\mathrm{H}$ gate, obtaining\n",
    "$$\n",
    "\\left|\\psi_0\\right\\rangle \\rightarrow \\frac{1}{\\sqrt{2}}\\left(\\left|0\\right\\rangle+\\left|1\\right\\rangle\\right) \\otimes \\frac{1}{\\sqrt{2}}\\left(\\left|0\\right\\rangle-\\left|1\\right\\rangle\\right)\n",
    "$$\n",
    "Notice that this single qubit operation can be performed in parallel with one the previous ones on the other register. The circuit in qiskit becomes:\n",
    "</p>"
   ]
  },
  {
   "cell_type": "code",
   "execution_count": null,
   "metadata": {
    "collapsed": true
   },
   "outputs": [],
   "source": [
    "deutsch.h(qr[0])\n",
    "\n",
    "deutsch.draw(output='mpl')"
   ]
  },
  {
   "cell_type": "markdown",
   "metadata": {},
   "source": [
    "<p style='text-align: justify;'> We are now ready to let our quantum state go through the black-box unitary $\\mathrm{U}_f$ computing the unknown $f$. The action of $\\mathrm{U}_f$ goes as presented in the paragraph above, and together with linearity properties of unitary operators, it gives\n",
    "$$\n",
    "\\frac{1}{\\sqrt{2}}\\left(\\left|0\\right\\rangle+\\left|1\\right\\rangle\\right) \\otimes \\frac{1}{\\sqrt{2}}\\left(\\left|0\\right\\rangle-\\left|1\\right\\rangle\\right) \\rightarrow \\frac{1}{2} \\left[\\left|0\\right\\rangle\\left(\\left|0\\oplus f(0)\\right\\rangle-\\left|1\\oplus f(0)\\right\\rangle\\right)+\\left|1\\right\\rangle\\left(\\left|0\\oplus f(1)\\right\\rangle-\\left|1\\oplus f(1)\\right\\rangle\\right)\\right] \\equiv \\left| \\psi_f\\right\\rangle\n",
    "$$\n",
    "It is easy to see that the terms in $\\left| \\psi_f\\right\\rangle$ can be rearranged in the form\n",
    "$$\n",
    "\\left| \\psi_f\\right\\rangle = \\frac{1}{\\sqrt{2}} \\left((-1)^{f(0)}\\left|0\\right\\rangle+(-1)^{f(1)}\\left|1\\right\\rangle\\right) \\otimes \\frac{1}{\\sqrt{2}}\\left(\\left|0\\right\\rangle-\\left|1\\right\\rangle\\right)\n",
    "$$\n",
    "One last $\\mathrm{H}$ on the first qubit will now give two possible scenarios: indeed, if $f(0) = f(1)$, the final state is (up to a global phase factor)\n",
    "$$\n",
    "\\left(\\mathrm{H}\\otimes \\mathcal{I}\\right) \\left| \\psi_f\\right\\rangle = \\left|0\\right\\rangle \\otimes \\frac{1}{\\sqrt{2}}\\left(\\left|0\\right\\rangle-\\left|1\\right\\rangle\\right)\n",
    "$$\n",
    "while if $f(0) \\neq f(1)$ we have\n",
    "$$\n",
    "\\left(\\mathrm{H}\\otimes \\mathcal{I}\\right) \\left| \\psi_f\\right\\rangle = \\left|1\\right\\rangle \\otimes \\frac{1}{\\sqrt{2}}\\left(\\left|0\\right\\rangle-\\left|1\\right\\rangle\\right)\n",
    "$$\n",
    "Finally, a measure of the first register in the computational basis will give the desired outcome: indeed, if we masure the first qubit in $\\left| 1\\right\\rangle$ then we know that $f$ is A-type, while if we see a $\\left| 0\\right\\rangle$ it means that the unknown $f$ is B-type. Notice that we have used $\\mathrm{U}_f$ only once.\n",
    "</p>\n",
    "\n",
    "<p style='text-align: justify;'> We can complete our example in qiskit by choosing a model for the oracle $\\mathrm{U}_f$. You can for example see that for $f = f_1$, a single $\\mathrm{CNOT}$ with the first register as control will do the job:\n",
    "$$\n",
    "\\mathrm{U}_{f_1} = \\mathrm{CNOT}(qr_0,qr_1)\n",
    "$$\n",
    "If you feel puzzled by the fact that we cannot implement the circuit in practice without knowing _in advance_ the properties of $f$, you may simply consider that the $\\mathrm{U}_f$ part of the circuit (the actual black-box) is done for example on a remote server. What we are showing in qiskit is therefore the full story of the quantum state that you and your partner are sharing, with you taking care of the preparation of the state, post-processing and measure, and the other party chosing and performing the $\\mathrm{U}_f$ without letting you know the details. What Deutsch's procedure actually tells you is how to prepare a carefully designed state and what to do after you receive it back from the oracle, and it guarantees that you will be able to recover the information about $f$ by exchanging the state only _once_ with the other party. With this in mind, we can complete ansd show the quantum circuit for the case in which the remote server chose $f=f_1$: \n",
    "</p>"
   ]
  },
  {
   "cell_type": "code",
   "execution_count": null,
   "metadata": {
    "collapsed": true
   },
   "outputs": [],
   "source": [
    "deutsch.cx(qr[0],qr[1])\n",
    "deutsch.h(qr[0])\n",
    "deutsch.measure(qr[0],crsingle[0])\n",
    "\n",
    "deutsch.draw(output='mpl')"
   ]
  },
  {
   "cell_type": "markdown",
   "metadata": {},
   "source": [
    "<p style='text-align: justify;'> In this particular example, all  the single qubit rotations and the final measure are perfromed by the party that wants to guess the properties of $f$, while the other party performs the $\\mathrm{CNOT}$. </p>\n",
    "\n",
    "* <p style='text-align: justify;'> __Exercise 1.10__ Find the appropriate sequence of gates to implement the oracle $\\mathrm{U}_{f_x}$ for $x = 2,3,4$. Then play with a partner in qiskit, with one of you choosing the $f$ and the other one trying to guess its properties.</p>"
   ]
  },
  {
   "cell_type": "markdown",
   "metadata": {},
   "source": [
    "### _Bonus track_: The Quantum Fourier Transform\n",
    "\n",
    "<p style='text-align: justify;'> Let $x = \\left(x_0,\\dots,x_{n-1}\\right)$ be a $n$-dimensional vector of complex numbers. We define the Discrete Fourier Transform of $x$ the vector $y$ with components\n",
    "$$\n",
    "y_k = \\frac{1}{\\sqrt{n}}\\sum_{j = 0}^{n-1}x_j e^{i2\\pi j \\frac{k}{n}} \\qquad k = 0,\\dots,n-1\n",
    "$$\n",
    "If we take $j\\in\\{0,n-1\\}$ and we call $\\left| j\\right\\rangle$ a quantum state of $N$ qubits that is a $N$-bit representation  of $j$ on the computational basis (for example, if $j = 4$ and $N = 3$ we have $\\left| j\\right\\rangle = \\left| 100\\right\\rangle \\equiv \\left| 1\\right\\rangle\\left| 0\\right\\rangle\\left| 0\\right\\rangle$) we can define the Quantum Fourier Transform (QFT) as the unitary transformation\n",
    "$$\n",
    "\\left| j\\right\\rangle \\rightarrow \\frac{1}{\\sqrt{n}}\\sum_{k=0}^{n-1}e^{i2\\pi j \\frac{k}{n}} \\left| k\\right\\rangle\n",
    "$$\n",
    "The main advantage of the QFT as compared with the classical counterpart it that it can be efficiently (i.e. with a number of elementary operation polinomial in the size $n$ of the input) implemented on a quantum computer. Without going through all the details of the derivation, which you can for example find in the book by Nielsen and Chuang recommended at the beginning of the algorithms section of this notebook, we present here the general structure of a unitary circuit implementing QFT. After preparing your $N$ qubit register in the input state $\\left| j\\right\\rangle$ by applying for example suitable single qubit rotations (e.g. $\\mathrm{X}$ gates), the standard QFT algorithm contains only two types of gates, namely Hadamard single qubit rotations and controlled phase rotations $\\mathrm{CPHASE}(\\delta)$, and can be constructed using the following procedure:</p>\n",
    "\n",
    "```\n",
    "for i = 1 to N do:\n",
    "    apply H to qubit i in your register\n",
    "    for k = i+1 to N do:\n",
    "        l = k-i+1\n",
    "        apply CPHASE(2*pi*(1/2^l)) with qubit i as target and qubit k as control\n",
    "```\n",
    "\n",
    "<p style='text-align: justify;'> Final $\\mathrm{SWAP}$ gates are then needed to reverse the order of the output qubits. Here is an example code for QFT in qiskit (without the initial preparation of the input state $\\left| j\\right\\rangle$ and the final $\\mathrm{SWAP}$s), in principle valid for any $N$ and $n = 2^N$:</p>"
   ]
  },
  {
   "cell_type": "code",
   "execution_count": null,
   "metadata": {
    "collapsed": true
   },
   "outputs": [],
   "source": [
    "N = 4\n",
    "qrQFT = qk.QuantumRegister(N,'qftr')\n",
    "QFT = qk.QuantumCircuit(qrQFT)\n",
    "\n",
    "for i in range(N):\n",
    "    QFT.h(qrQFT[i])\n",
    "    for k in range(i+1,N):\n",
    "        l = k-i+1\n",
    "        QFT.cu1(2*math.pi/(2**l),qrQFT[k],qrQFT[i])\n",
    "\n",
    "QFT.draw(output='mpl')"
   ]
  },
  {
   "cell_type": "markdown",
   "metadata": {},
   "source": [
    "## Final exercise\n",
    "\n",
    "* <p style='text-align: justify;'> __Exercise 1.11__ Run as many of the examples in this tutorial as you can on IBMQ quantum processors, adapting the circuits whenever needed or possible and choosing the most appropriate mapping on the physical qubits. For simple circuits, you may also use the composer, a graphical quantum programming interface available at <https://quantumexperience.ng.bluemix.net/qx/editor>. </p>"
   ]
  }
 ],
 "metadata": {
  "kernelspec": {
   "display_name": "Python 3",
   "language": "python",
   "name": "python3"
  },
  "language_info": {
   "codemirror_mode": {
    "name": "ipython",
    "version": 3
   },
   "file_extension": ".py",
   "mimetype": "text/x-python",
   "name": "python",
   "nbconvert_exporter": "python",
   "pygments_lexer": "ipython3",
   "version": "3.7.4"
  }
 },
 "nbformat": 4,
 "nbformat_minor": 2
}

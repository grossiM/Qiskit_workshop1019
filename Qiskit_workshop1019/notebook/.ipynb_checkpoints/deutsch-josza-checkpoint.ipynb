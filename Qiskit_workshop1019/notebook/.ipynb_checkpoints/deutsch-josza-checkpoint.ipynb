{
 "cells": [
  {
   "cell_type": "markdown",
   "metadata": {},
   "source": [
    "# Deutsch-Josza Algorithm"
   ]
  },
  {
   "cell_type": "markdown",
   "metadata": {},
   "source": [
    "In this section, we first introduce the Deutsch-Josza problem, and classical and quantum algorithms to solve it. We then implement the quantum algorithm using Qiskit, and run on a simulator and device."
   ]
  },
  {
   "cell_type": "markdown",
   "metadata": {},
   "source": [
    "## Contents\n",
    "\n",
    "1. [Introduction](#introduction)\n",
    "   - [Deutsch-Josza Problem](#djproblem)\n",
    "   - [Deutsch-Josza Algorithm](#djalgorithm)\n",
    "\n",
    "2. [Example](#example)\n",
    "\n",
    "3. [Qiskit Implementation](#implementation)\n",
    "   - [Simulation](#simulation)\n",
    "   - [Device](#device)\n",
    "\n",
    "4. [Problems](#problems)\n",
    "\n",
    "5. [References](#references)"
   ]
  },
  {
   "cell_type": "markdown",
   "metadata": {},
   "source": [
    "## 1. Introduction <a id='introduction'></a>"
   ]
  },
  {
   "cell_type": "markdown",
   "metadata": {},
   "source": [
    "The Deutsch-Josza algorithm, first introduced in Reference [1], was the first example of a quantum algorithm that performs better than the best classical algorithm. It showed that there can be advantages in using a quantum computer as a computational tool for a specific problem."
   ]
  },
  {
   "cell_type": "markdown",
   "metadata": {},
   "source": [
    "### 1a. Deutsch-Josza Problem <a id='djproblem'> </a>"
   ]
  },
  {
   "cell_type": "markdown",
   "metadata": {},
   "source": [
    "We are given a hidden Boolean function $f$, which takes as as input a string of bits, and returns either $0$ or $1$, that is \n",
    "<center>$f(\\{x_0,x_1,x_2,...\\}) \\rightarrow 0 \\textrm{ or } 1 \\textrm{ , where } x_n \\textrm{ is } 0 \\textrm{ or } 1$.\n",
    "\n",
    "The property of the given Boolean function is that it is guaranteed to either be balanced or constant. A constant function returns all $0$'s or all $1$'s for any input, while a balanced function returns $0$'s for exactly half of all inputs and $1$'s for the other half. Our task is to determine whether the given function is balanced or constant. \n",
    "\n",
    "Note that the Deutsch-Josza problem is an $n$-bit extension of the single bit Deutsch problem. "
   ]
  },
  {
   "cell_type": "markdown",
   "metadata": {},
   "source": [
    "### 1b. Deutsch-Josza Algorithm <a id='djalgorithm'> </a>"
   ]
  },
  {
   "cell_type": "markdown",
   "metadata": {},
   "source": [
    "#### Classical Solution\n",
    "\n",
    "Classically, in the best case, two queries to the oracle can determine if the hidden Boolean function, $f(x)$, is balanced: \n",
    "e.g. if we get both $f(0,0,0,... \\rightarrow 0)$ and $f(1,0,0,... \\rightarrow 1)$ we know the function is balanced as  we have obtained the two different outputs.  \n",
    "\n",
    "In the worst case, if we continue to see the same output for each input we try, we will have to check exactly $2^{n-1}+1$ inputs to be certain that $f(x)$ is constant: \n",
    "e.g. for a $4$-bit string, if we checked $8$ out of the $16$ possible combinations, getting all $0$'s, it is still possible that the $9^\\textrm{th}$ input returns a $1$ and $f(x)$ is balanced. Probabilistically, this is a very unlikely event. In fact, if we get the same result continually in succession, we can express the probability that the function is constant as a function of $k$ inputs as:\n",
    "$$ P_\\textrm{constant}(k) = 1 - \\frac{1}{2^{k-1}} \\qquad \\textrm{for } k \\leq 2^{n-1}$$\n",
    "Realistically, we could opt to truncate our classical algorithm early, say if we were over x% confident. But if we want to be 100% confident, we would need to check $2^{n-1}+1$ inputs."
   ]
  },
  {
   "cell_type": "markdown",
   "metadata": {},
   "source": [
    "#### Quantum Solution\n",
    "\n",
    "Using a quantum computer, we can solve this problem with 100% confidence after only one call to the function $f(x)$, provided we have the function $f$ implemented as a quantum oracle, which maps the state $\\vert x\\rangle \\vert y\\rangle $ to $ \\vert x\\rangle \\vert y \\oplus f(x)\\rangle$, where $\\oplus$ is addition modulo $2$. Below is the generic circuit for the Deutsh-Josza algorithm.\n",
    "\n",
    "<img src=\"images/deutsch_steps.png\" width=\"600\">\n",
    "\n",
    "Now, let's go through the steps of the algorithm:\n",
    "\n",
    "<ol>\n",
    "   <li>\n",
    "        Prepare two quantum registers. The first is an $n$-qubit register initialised to $\\vert 0 \\rangle$, and the second is a one-qubit register initialised to $\\vert 1\\rangle$:\n",
    "        $$\\vert \\psi_0 \\rangle = \\vert0\\rangle^{\\otimes n} \\vert 1\\rangle$$\n",
    "   </li>\n",
    "    \n",
    "   <li>\n",
    "        Apply a Hadamard gate to each qubit:\n",
    "        $$\\vert \\psi_1 \\rangle = \\frac{1}{\\sqrt{2^{n+1}}}\\sum_{x=0}^{2^n-1} \\vert x\\rangle \\vert 0\\rangle - \\vert 1 \\rangle$$\n",
    "   </li>\n",
    "   \n",
    "   <li>\n",
    "        Apply the quantum oracle $\\vert x\\rangle \\vert y\\rangle $ to $ \\vert x\\rangle \\vert y \\oplus f(x)\\rangle$:\n",
    "        \\begin{aligned}\n",
    "            \\lvert \\psi_2 \\rangle  \n",
    "                & = \\frac{1}{\\sqrt{2^{n+1}}}\\sum_{x=0}^{2^n-1} \\vert x\\rangle (\\vert f(x)\\rangle - \\vert 1 \\oplus f(x)\\rangle) \\\\  \n",
    "                & = \\frac{1}{\\sqrt{2^{n+1}}}\\sum_{x=0}^{2^n-1}(-1)^{f(x)}|x\\rangle ( |0\\rangle - |1\\rangle ) \n",
    "        \\end{aligned}\n",
    "        since each $x,f(x)$ is either $0$ or $1$.\n",
    "   </li>\n",
    "\n",
    "   <li>\n",
    "       At this point the second single qubit register may be ignored. Apply a Hadamard gate to each qubit in the first register:\n",
    "        \\begin{aligned}\n",
    "            \\lvert \\psi_3 \\rangle \n",
    "                & = \\frac{1}{2^n}\\sum_{x=0}^{2^n-1}(-1)^{f(x)}\n",
    "                    \\left[ \\sum_{y=0}^{2^n-1}(-1)^{x \\cdot y} \n",
    "                    \\vert y \\rangle \\right] \\\\\n",
    "                & = \\frac{1}{2^n}\\sum_{y=0}^{2^n-1}\n",
    "                    \\left[ \\sum_{x=0}^{2^n-1}(-1)^{f(x)}(-1)^{x \\cdot y} \\right]\n",
    "                    \\vert y \\rangle\n",
    "        \\end{aligned}\n",
    "        where $x \\cdot y = x_0y_0 \\oplus x_1y_1 \\oplus \\ldots \\oplus x_{n-1}y_{n-1}$ is the sum of the bitwise product.\n",
    "   </li>\n",
    "\n",
    "   <li>\n",
    "       Measure the first register. Notice that the probability of measuring $\\vert 0 \\rangle ^{\\otimes n} = \\lvert \\frac{1}{2^n}\\sum_{x=0}^{2^n-1}(-1)^{f(x)} \\rvert^2$, which evaluates to $1$ if $f(x)$ is constant and $0$ if $f(x)$ is balanced. \n",
    "   </li>\n",
    "\n",
    "</ol>\n",
    "\n",
    "**Why does this work?**\n",
    "\n",
    "$\\qquad$ When the hidden Boolean function is *constant*, the quantum states before and after querying the oracle are the same. The inverse of the Hadamard gate is the Hadamard gate itself. Thus, by Step 4, we essentially reverse Step 2 to obtain the initial quantum state of all-zero at the first register.  \n",
    "\n",
    "$\\qquad$ When the hidden Boolean function is *balanced*, the quantum state after querying the oracle is orthogonal to the quantum state before querying the oracle. Thus, by Step 4, when reverting the operation, we must end up with a quantum state that is orthogonal to the initial quantum state of all-zero at the first register. This means we should never obtain the all-zero state. \n"
   ]
  },
  {
   "cell_type": "markdown",
   "metadata": {},
   "source": [
    "##### Quantum Oracle\n",
    "\n",
    "The key to the Deutsch-Josza Algorithm is the implementation of the quantum oracle. \n",
    "\n",
    "For a constant function, it is simple:\n",
    "\n",
    "$\\qquad$ 1. if f(x) = 0, then apply the $I$ gate to the qubit in register 2.  \n",
    "$\\qquad$ 2. if f(x) = 1, then apply the $X$ gate to the qubit in register 2.\n",
    "\n",
    "For a balanced function, it is more complicated:\n",
    "\n",
    "$\\qquad$ There are $2^{n}-1$ different hidden bitstring configurations for an $n$-bit balanced function oracle. These can be defined by one of the bitstrings from $1$ to $2^n-1$ inclusive. Given a particular hidden bitstring, $a$, the oracle is the bitwise product of $x$ and $a$, which is implemented as a multi-qubit f-controlled-NOT gate with the second register, as per Reference [2]. "
   ]
  },
  {
   "cell_type": "markdown",
   "metadata": {},
   "source": [
    "## 2. Example  <a id='example'></a>\n",
    "\n",
    "Let's go through a specfic example for a two bit balanced function with hidden bitstring $a = 3$.\n",
    "\n",
    "<ol>\n",
    "    <li> The first register of two qubits is initialized to zero and the second register qubit to one \n",
    "    $$\\lvert \\psi_0 \\rangle = \\lvert 0 0 \\rangle_1 \\lvert 1 \\rangle_2 $$ \n",
    "   </li>\n",
    "    \n",
    "   <li> Apply Hadamard on all qubits\n",
    "    $$\\lvert \\psi_1 \\rangle = \\frac{1}{2} \\left( \\lvert 0 0 \\rangle_1 + \\lvert 0 1 \\rangle_1 + \\lvert 1 0 \\rangle_1 + \\lvert 1 1 \\rangle_1 \\right) \\frac{1}{\\sqrt{2}} \\left( \\lvert 0 \\rangle_2 - \\lvert 1 \\rangle_2 \\right)  $$ \n",
    "   </li>\n",
    "    \n",
    "   <li> For $a=3$, (11 in binary) the oracle function can be implemented as $\\text{Q}_f = CX_{1a}CX_{2a}$, \n",
    "       \\begin{align*}\n",
    "            \\lvert \\psi_2 \\rangle =  \\frac{1}{2\\sqrt{2}} \\left[ \\lvert 0 0 \\rangle_1 \\left( \\lvert 0 \\oplus 0 \\oplus 0 \\rangle_2 - \\lvert 1 \\oplus 0 \\oplus 0 \\rangle_2 \\right) \\\\\n",
    "                  + \\lvert 0 1 \\rangle_1 \\left( \\lvert 0 \\oplus 0 \\oplus 1 \\rangle_2 - \\lvert 1 \\oplus 0 \\oplus 1 \\rangle_2 \\right) \\\\\n",
    "                  + \\lvert 1 0 \\rangle_1 \\left( \\lvert 0 \\oplus 1 \\oplus 0 \\rangle_2 - \\lvert 1 \\oplus 1 \\oplus 0 \\rangle_2 \\right) \\\\\n",
    "                  + \\lvert 1 1 \\rangle_1 \\left( \\lvert 0 \\oplus 1 \\oplus 1 \\rangle_2 - \\lvert 1 \\oplus 1 \\oplus 1 \\rangle_2 \\right) \\right]\n",
    "        \\end{align*}\n",
    "   </li>\n",
    "    \n",
    "   Thus\n",
    "       \\begin{aligned}\n",
    "        \\lvert \\psi_2 \\rangle & = \\frac{1}{2\\sqrt{2}} \\left[ \\lvert 0 0 \\rangle_1 \\left( \\lvert 0 \\rangle_2 - \\lvert 1 \\rangle_2 \\right) - \\lvert 0 1 \\rangle_1  \\left( \\lvert 0 \\rangle_2 - \\lvert  1 \\rangle_2 \\right) - \\lvert 1 0 \\rangle_1  \\left( \\lvert 0  \\rangle_2 - \\lvert 1 \\rangle_2 \\right) + \\lvert 1 1 \\rangle_1  \\left( \\lvert 0 \\rangle_2 - \\lvert 1 \\rangle_2 \\right)  \\right] \\\\\n",
    "        & = \\frac{1}{2} \\left( \\lvert 0 0 \\rangle_1 - \\lvert 0 1 \\rangle_1 - \\lvert 1 0 \\rangle_1 + \\lvert 1 1 \\rangle_1 \\right) \\frac{1}{\\sqrt{2}} \\left( \\lvert 0 \\rangle_2 - \\lvert 1 \\rangle_2 \\right)  \\\\\n",
    "        & = \\frac{1}{\\sqrt{2}} \\left( \\lvert 0 \\rangle_{10} - \\lvert 1 \\rangle_{10} \\right)\\frac{1}{\\sqrt{2}} \\left( \\lvert 0 \\rangle_{11} - \\lvert 1 \\rangle_{11} \\right)\\frac{1}{\\sqrt{2}} \\left( \\lvert 0 \\rangle_2 - \\lvert 1 \\rangle_2 \\right)\n",
    "        \\end{aligned}\n",
    "   </li>\n",
    "    \n",
    "   <li> Apply Hadamard on the first register\n",
    "        $$ \\lvert \\psi_3\\rangle = \\lvert 1 \\rangle_{10} \\lvert 1 \\rangle_{11}  \\left( \\lvert 0 \\rangle_2 - \\lvert 1 \\rangle_2 \\right) $$\n",
    "   </li>\n",
    "   \n",
    "   <li> Measuring the first two qubits will give the non-zero $11$, indicating a balanced function.\n",
    "   </li>\n",
    "</ol>\n"
   ]
  },
  {
   "cell_type": "markdown",
   "metadata": {},
   "source": [
    "## 3. Qiskit Implementation <a id='implementation'></a>\n",
    "\n",
    "We now implement the Deutsch-Josza algorithm for the example of a two bit balanced function with hidden bitstring $a = 3$."
   ]
  },
  {
   "cell_type": "code",
   "execution_count": 1,
   "metadata": {},
   "outputs": [],
   "source": [
    "# initialization\n",
    "import matplotlib.pyplot as plt\n",
    "%matplotlib inline\n",
    "import numpy as np\n",
    "\n",
    "# importing Qiskit\n",
    "from qiskit import IBMQ, BasicAer\n",
    "from qiskit.providers.ibmq import least_busy\n",
    "from qiskit import QuantumCircuit, ClassicalRegister, QuantumRegister, execute\n",
    "\n",
    "# import basic plot tools\n",
    "from qiskit.tools.visualization import plot_histogram"
   ]
  },
  {
   "cell_type": "code",
   "execution_count": 2,
   "metadata": {},
   "outputs": [],
   "source": [
    "# set the length of the $n$-bit string. \n",
    "n = 2\n",
    "\n",
    "# set the oracle, b for balanced, c for constant\n",
    "oracle = \"b\"\n",
    "\n",
    "# if the oracle is balanced, set the hidden bitstring, b\n",
    "if oracle == \"b\":\n",
    "    b = 3 # np.random.randint(1,2**n) uncomment for a random value\n",
    "\n",
    "# if the oracle is constant, set c = 0 or 1 randomly.\n",
    "if oracle == \"c\":\n",
    "    c = np.random.randint(2)"
   ]
  },
  {
   "cell_type": "code",
   "execution_count": 3,
   "metadata": {},
   "outputs": [],
   "source": [
    "# Creating registers\n",
    "# n qubits for querying the oracle and one qubit for storing the answer\n",
    "qr = QuantumRegister(n+1)\n",
    "cr = ClassicalRegister(n)\n",
    "\n",
    "djCircuit = QuantumCircuit(qr, cr)\n",
    "barriers = True\n",
    "\n",
    "# Since all qubits are initialized to |0>, we need to flip the second register qubit to the the |1> state\n",
    "djCircuit.x(qr[n])\n",
    "\n",
    "# Apply barrier \n",
    "if barriers:\n",
    "    djCircuit.barrier()\n",
    "\n",
    "# Apply Hadamard gates to all qubits\n",
    "djCircuit.h(qr)    \n",
    "    \n",
    "# Apply barrier \n",
    "if barriers:\n",
    "    djCircuit.barrier()\n",
    "\n",
    "# Query the oracle \n",
    "if oracle == \"c\": # if the oracle is constant, return c\n",
    "    if c == 1:\n",
    "        djCircuit.x(qr[n])\n",
    "    else:\n",
    "        djCircuit.iden(qr[n])\n",
    "else: # otherwise, the oracle is balanced and it returns the inner product of the input with b (non-zero bitstring) \n",
    "    for i in range(n):\n",
    "        if (b & (1 << i)):\n",
    "            djCircuit.cx(qr[i], qr[n])\n",
    "\n",
    "# Apply barrier \n",
    "if barriers:\n",
    "    djCircuit.barrier()\n",
    "\n",
    "# Apply Hadamard gates to the first register after querying the oracle\n",
    "for i in range(n):\n",
    "    djCircuit.h(qr[i])\n",
    "\n",
    "# Measure the first register\n",
    "for i in range(n):\n",
    "    djCircuit.measure(qr[i], cr[i])"
   ]
  },
  {
   "cell_type": "code",
   "execution_count": 4,
   "metadata": {},
   "outputs": [
    {
     "data": {
      "image/png": "[encoded data removed]",
      "text/plain": [
       "<Figure size 769.356x264.88 with 1 Axes>"
      ]
     },
     "execution_count": 4,
     "metadata": {},
     "output_type": "execute_result"
    }
   ],
   "source": [
    "djCircuit.draw(output='mpl')"
   ]
  },
  {
   "cell_type": "markdown",
   "metadata": {},
   "source": [
    "### 3b. Experiment with Simulators <a id='simulation'></a>\n",
    "\n",
    "We can run the above circuit on the simulator. "
   ]
  },
  {
   "cell_type": "code",
   "execution_count": 5,
   "metadata": {},
   "outputs": [
    {
     "data": {
      "image/png": "[encoded data removed]",
      "text/plain": [
       "<Figure size 504x360 with 1 Axes>"
      ]
     },
     "execution_count": 5,
     "metadata": {},
     "output_type": "execute_result"
    }
   ],
   "source": [
    "# use local simulator\n",
    "backend = BasicAer.get_backend('qasm_simulator')\n",
    "shots = 1024\n",
    "results = execute(djCircuit, backend=backend, shots=shots).result()\n",
    "answer = results.get_counts()\n",
    "\n",
    "plot_histogram(answer)"
   ]
  },
  {
   "cell_type": "markdown",
   "metadata": {},
   "source": [
    "We can see that the result of the measurement is $11$ as expected."
   ]
  },
  {
   "cell_type": "markdown",
   "metadata": {},
   "source": [
    "### 3a. Experiment with Real Devices <a id='device'></a>\n",
    "\n",
    "We can run the circuit on the real device as shown below."
   ]
  },
  {
   "cell_type": "code",
   "execution_count": 7,
   "metadata": {},
   "outputs": [
    {
     "name": "stderr",
     "output_type": "stream",
     "text": [
      "/Users/it058990/anaconda3/envs/Qiskitenv/lib/python3.7/site-packages/qiskit/providers/ibmq/ibmqfactory.py:181: UserWarning: Credentials are already in use. The existing account in the session will be replaced.\n",
      "  warnings.warn('Credentials are already in use. The existing '\n"
     ]
    },
    {
     "name": "stdout",
     "output_type": "stream",
     "text": [
      "least busy backend:  ibmqx2\n"
     ]
    }
   ],
   "source": [
    "# Load our saved IBMQ accounts and get the least busy backend device with less than or equal to 5 qubits\n",
    "IBMQ.load_account()\n",
    "provider = IBMQ.get_provider(hub='ibm-q')\n",
    "provider.backends()\n",
    "backend = least_busy(provider.backends(filters=lambda x: x.configuration().n_qubits <= 5 and \n",
    "                                   not x.configuration().simulator and x.status().operational==True))\n",
    "print(\"least busy backend: \", backend)"
   ]
  },
  {
   "cell_type": "code",
   "execution_count": 8,
   "metadata": {},
   "outputs": [
    {
     "name": "stdout",
     "output_type": "stream",
     "text": [
      "Job Status: job has successfully run\n"
     ]
    }
   ],
   "source": [
    "# Run our circuit on the least busy backend. Monitor the execution of the job in the queue\n",
    "from qiskit.tools.monitor import job_monitor\n",
    "\n",
    "shots = 1024\n",
    "job = execute(djCircuit, backend=backend, shots=shots)\n",
    "\n",
    "job_monitor(job, interval = 2)"
   ]
  },
  {
   "cell_type": "code",
   "execution_count": 9,
   "metadata": {},
   "outputs": [
    {
     "data": {
      "image/png": "[encoded data removed]",
      "text/plain": [
       "<Figure size 504x360 with 1 Axes>"
      ]
     },
     "execution_count": 9,
     "metadata": {},
     "output_type": "execute_result"
    }
   ],
   "source": [
    "# Get the results of the computation\n",
    "results = job.result()\n",
    "answer = results.get_counts()\n",
    "\n",
    "plot_histogram(answer)"
   ]
  },
  {
   "cell_type": "markdown",
   "metadata": {},
   "source": [
    "As we can see, most of the results are $11$. The other results are due to errors in the quantum computation. "
   ]
  },
  {
   "cell_type": "markdown",
   "metadata": {},
   "source": [
    "## 4. Problems <a id='problems'></a>\n",
    "\n",
    "1. The above [implementation](#implementation) of Deutsch-Josza is for a balanced function with a two bit input of 3. Modify the implementation for a constant function. Are the results what you expect? Explain.\n",
    "2. The above [implementation](#implementation) of Deutsch-Josza is for a balanced function with a two bit random input. Modify the implementation for a balanced function with a 4 bit input of 13. Are the results what you expect? Explain."
   ]
  },
  {
   "cell_type": "markdown",
   "metadata": {},
   "source": [
    "## 5. References <a id='references'></a>\n",
    "\n",
    "1. David Deutsch and Richard Jozsa (1992). \"Rapid solutions of problems by quantum computation\". Proceedings of the Royal Society of London A. 439: 553–558.  [doi:10.1098/rspa.1992.0167](https://doi.org/10.1098%2Frspa.1992.0167).\n",
    "2. R. Cleve; A. Ekert; C. Macchiavello; M. Mosca (1998). \"Quantum algorithms revisited\". Proceedings of the Royal Society of London A. 454: 339–354. [doi:10.1098/rspa.1998.0164](https://doi.org/10.1098%2Frspa.1998.0164)."
   ]
  },
  {
   "cell_type": "code",
   "execution_count": 14,
   "metadata": {},
   "outputs": [
    {
     "data": {
      "text/plain": [
       "{'qiskit-terra': '0.9.0',\n",
       " 'qiskit-ignis': '0.2.0',\n",
       " 'qiskit-aqua': '0.6.0',\n",
       " 'qiskit': '0.12.0',\n",
       " 'qiskit-aer': '0.3.0',\n",
       " 'qiskit-ibmq-provider': '0.3.2'}"
      ]
     },
     "execution_count": 14,
     "metadata": {},
     "output_type": "execute_result"
    }
   ],
   "source": [
    "import qiskit\n",
    "qiskit.__qiskit_version__"
   ]
  }
 ],
 "metadata": {
  "kernelspec": {
   "display_name": "Python 3",
   "language": "python",
   "name": "python3"
  },
  "language_info": {
   "codemirror_mode": {
    "name": "ipython",
    "version": 3
   },
   "file_extension": ".py",
   "mimetype": "text/x-python",
   "name": "python",
   "nbconvert_exporter": "python",
   "pygments_lexer": "ipython3",
   "version": "3.7.4"
  }
 },
 "nbformat": 4,
 "nbformat_minor": 2
}

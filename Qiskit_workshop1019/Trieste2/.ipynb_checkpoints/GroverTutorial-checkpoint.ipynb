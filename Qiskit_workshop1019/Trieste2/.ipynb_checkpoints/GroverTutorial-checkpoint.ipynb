{
 "cells": [
  {
   "cell_type": "markdown",
   "metadata": {},
   "source": [
    "<img src=\"https://raw.githubusercontent.com/Qiskit/qiskit-tutorials/master/images/qiskit-heading.png\" alt=\"Note: In order for images to show up in this jupyter notebook you need to select File => Trusted Notebook\" width=\"500 px\" align=\"left\">"
   ]
  },
  {
   "cell_type": "markdown",
   "metadata": {},
   "source": [
    "# **Grover's Search Algorithm** \n",
    "\n",
    "### Contributors\n",
    "Michele Grossi, Filippo Tramonto, Ennio Picarelli\n",
    "\n",
    "## Application of the Grover's serach algorithm to 2 qubit system\n",
    "\n",
    "Below is an example of an application with QISKIT of the Grover algorithm in the case of a search in a list of 4 items using 2 qubits.\n",
    "\n",
    "__Tutorial outline:__\n",
    "\n",
    "1) Import of the libraries\n",
    "\n",
    "2) Initialization of the circuit\n",
    "\n",
    "3) Hadamard Transform\n",
    "\n",
    "4) Write a routine to ask to the user and request for input to set the chosen card\n",
    "\n",
    "5) Starting from the assignment |00> --> Hearts |10> --> Paintings |01> --> Flowers |11> --> Spades, conditioned creation of Oracles with visualization of various circuits\n",
    "\n",
    "<img src=\"cards.png\" width=\"300\">\n",
    "\n",
    "6) Creation of the conditioned phase shift operator\n",
    "\n",
    "7) Run with simulator\n",
    "\n",
    "8) Run on real processor \n",
    "\n",
    "9) Print and plot the result \n",
    "\n",
    "**Some cells are hidden so you can implement your solution/answer and then check with the proposed solution**.\n",
    "\n",
    "Code import\n",
    "==========\n",
    "## Let's load the necessary Qiskit libraries into the Python environment and initialize the circuit <a id='sectionB'></a>\n",
    "\n",
    "The circuit is initialized to 2 qubits: q0 and q1"
   ]
  },
  {
   "cell_type": "code",
   "execution_count": 2,
   "metadata": {},
   "outputs": [],
   "source": [
    "from hide_toggle import hide_toggle\n",
    "#usage: \n",
    "#1 create a cell with: hide_toggle(for_next=True)\n",
    "#2 put the commented solution in the next cell"
   ]
  },
  {
   "cell_type": "code",
   "execution_count": null,
   "metadata": {},
   "outputs": [],
   "source": [
    "#import latex\n",
    "from qiskit import QuantumCircuit, ClassicalRegister, QuantumRegister\n",
    "from qiskit import execute, BasicAer\n",
    "import numpy as np\n",
    "%matplotlib inline"
   ]
  },
  {
   "cell_type": "markdown",
   "metadata": {},
   "source": [
    "## Let's initialize the circuit<a id='sectionB'></a>"
   ]
  },
  {
   "cell_type": "code",
   "execution_count": null,
   "metadata": {},
   "outputs": [],
   "source": [
    "#define a 2 qubit register and QuantumCircuit\n"
   ]
  },
  {
   "cell_type": "code",
   "execution_count": 3,
   "metadata": {},
   "outputs": [
    {
     "data": {
      "text/html": [
       "\n",
       "        <script>\n",
       "            function code_toggle_18305595657713067395() {\n",
       "                $('div.cell.code_cell.rendered.selected').next().find('div.input').toggle();\n",
       "            }\n",
       "\n",
       "            $('div.cell.code_cell.rendered.selected').find(\"div.input\").hide();\n",
       "        </script>\n",
       "\n",
       "        <a href=\"javascript:code_toggle_18305595657713067395()\">Toggle show/hide next cell</a>\n",
       "    "
      ],
      "text/plain": [
       "<IPython.core.display.HTML object>"
      ]
     },
     "execution_count": 3,
     "metadata": {},
     "output_type": "execute_result"
    }
   ],
   "source": [
    "hide_toggle(for_next=True)"
   ]
  },
  {
   "cell_type": "code",
   "execution_count": null,
   "metadata": {},
   "outputs": [],
   "source": [
    "# 2 bit registry creation.\n",
    "#qr = QuantumRegister(2, 'qr')\n",
    "\n",
    "# Circuit creation \n",
    "#qc = QuantumCircuit(qr)"
   ]
  },
  {
   "cell_type": "markdown",
   "metadata": {},
   "source": [
    "# Let's build the superposition of all basis states\n",
    "\n",
    "#### Let's build the Hadamard transform by applying the hadamard gates to the two qubits"
   ]
  },
  {
   "cell_type": "code",
   "execution_count": null,
   "metadata": {},
   "outputs": [],
   "source": [
    "#solution:\n",
    "#had_tr = QuantumCircuit(qr)"
   ]
  },
  {
   "cell_type": "code",
   "execution_count": 4,
   "metadata": {},
   "outputs": [
    {
     "data": {
      "text/html": [
       "\n",
       "        <script>\n",
       "            function code_toggle_13601734143764329914() {\n",
       "                $('div.cell.code_cell.rendered.selected').next().find('div.input').toggle();\n",
       "            }\n",
       "\n",
       "            $('div.cell.code_cell.rendered.selected').find(\"div.input\").hide();\n",
       "        </script>\n",
       "\n",
       "        <a href=\"javascript:code_toggle_13601734143764329914()\">Toggle show/hide next cell</a>\n",
       "    "
      ],
      "text/plain": [
       "<IPython.core.display.HTML object>"
      ]
     },
     "execution_count": 4,
     "metadata": {},
     "output_type": "execute_result"
    }
   ],
   "source": [
    "hide_toggle(for_next=True)"
   ]
  },
  {
   "cell_type": "code",
   "execution_count": null,
   "metadata": {},
   "outputs": [],
   "source": [
    "# Circuit creation of the Hadamard Transform\n",
    "#had_tr = QuantumCircuit(qr)\n",
    "\n",
    "#had_tr.h(qr[0])\n",
    "#had_tr.h(qr[1])\n",
    "#had_tr.barrier()\n",
    "\n",
    "\n",
    "#qc = had_tr\n",
    "#qc.draw(output='mpl')"
   ]
  },
  {
   "cell_type": "markdown",
   "metadata": {},
   "source": [
    "We visualize the array of amplitudes after the superposition\n"
   ]
  },
  {
   "cell_type": "code",
   "execution_count": null,
   "metadata": {},
   "outputs": [],
   "source": [
    "#run the circuit on statevector_simulator, save result to state_superposition variable"
   ]
  },
  {
   "cell_type": "code",
   "execution_count": 5,
   "metadata": {},
   "outputs": [
    {
     "data": {
      "text/html": [
       "\n",
       "        <script>\n",
       "            function code_toggle_17801343548927866646() {\n",
       "                $('div.cell.code_cell.rendered.selected').next().find('div.input').toggle();\n",
       "            }\n",
       "\n",
       "            $('div.cell.code_cell.rendered.selected').find(\"div.input\").hide();\n",
       "        </script>\n",
       "\n",
       "        <a href=\"javascript:code_toggle_17801343548927866646()\">Toggle show/hide next cell</a>\n",
       "    "
      ],
      "text/plain": [
       "<IPython.core.display.HTML object>"
      ]
     },
     "execution_count": 5,
     "metadata": {},
     "output_type": "execute_result"
    }
   ],
   "source": [
    "hide_toggle(for_next=True)"
   ]
  },
  {
   "cell_type": "code",
   "execution_count": null,
   "metadata": {},
   "outputs": [],
   "source": [
    "# execute the quantum circuit on simulator \n",
    "#backend = BasicAer.get_backend('statevector_simulator')\n",
    "\n",
    "#job = execute(qc, backend)\n",
    "\n",
    "#state_superposition = job.result().get_statevector(qc)\n",
    "#print(state_superposition)"
   ]
  },
  {
   "cell_type": "code",
   "execution_count": null,
   "metadata": {},
   "outputs": [],
   "source": [
    "from qiskit.tools.visualization import plot_bloch_multivector\n",
    "\n",
    "rho_superposition= np.outer(state_superposition, state_superposition.conj())\n",
    "plot_bloch_multivector(rho_superposition)"
   ]
  },
  {
   "cell_type": "markdown",
   "metadata": {},
   "source": [
    "## Lest's write a routine that asks the user for input to define the \"card\" he wants find."
   ]
  },
  {
   "cell_type": "code",
   "execution_count": null,
   "metadata": {},
   "outputs": [],
   "source": [
    "print(\"\\n\\n\\n\\n===== Welcome! =====\\n\\n\")\n",
    "print(\"  ~~ Let's take this test ~~ \")\n",
    "print(\"\\n\\n\")\n",
    "print(\"Select the winner among:\")\n",
    "print(\"a) Hearts\")\n",
    "print(\"b) Pictures\")\n",
    "print(\"c) Flowers\")\n",
    "print(\"d) Spades\")\n",
    "chosen = 0\n",
    "while (chosen==0):\n",
    "#\tscelta = getpass.getpass(\"make your choise. (a, b, c, d, e or f)\\n\")\n",
    "    scelta = input(\"Choose your card (a, b, c, d)\\n\")\n",
    "    if scelta == \"a\":\n",
    "        bit = \"|00>\"\n",
    "        print(\"Choice: a) Hearts\")\n",
    "    if scelta == \"b\":\n",
    "        bit = \"|01>\"\n",
    "        print(\"Choice: b) Pictures\")\n",
    "    if scelta == \"c\":\n",
    "        bit = \"|10>\"\n",
    "        print(\"Choice: c) Flowers\")\n",
    "    if scelta == \"d\":\n",
    "        bit = \"|11>\"\n",
    "        print(\"Choice: d) Spades\")\n",
    "    if scelta in [\"a\",\"b\",\"c\",\"d\"]:\n",
    "        chosen = 1\n",
    "        \n",
    "        print (\"Linked to:\", bit)\n",
    "    else:\n",
    "        print(\"wrong selection, retry\")"
   ]
  },
  {
   "cell_type": "markdown",
   "metadata": {},
   "source": [
    "# Let's build the oracle operator"
   ]
  },
  {
   "cell_type": "markdown",
   "metadata": {},
   "source": [
    "### How implement the Oracle operator in a two qubit circuit?\n",
    "\n",
    "We have 4 basis states, $|00 \\rangle$, $|01 \\rangle$, $|10 \\rangle$, $|11 \\rangle$, and we want to mark one of them by changing the sign.\n",
    "\n",
    "#### Let's see how can change the sign of the state of 1 qubit.\n",
    "\n",
    "For $|1 \\rangle$ we can do it by applying $H$ and $X$ as follows:\n",
    "$$ |1 \\rangle \\xrightarrow{H} \\frac{1}{\\sqrt{2}} (|0\\rangle - |1\\rangle) \\xrightarrow{X} - \\frac{1}{\\sqrt{2}} ( |0\\rangle - |1 \\rangle)  \\xrightarrow{H} - |1 \\rangle $$\n",
    "\n",
    "For $|0 \\rangle$ we just add the $X$ operator before and after:\n",
    "$$ |0\\rangle \\xrightarrow{X} |1 \\rangle \\xrightarrow{H} \\frac{1}{\\sqrt{2}} (|0\\rangle - |1\\rangle) \\xrightarrow{X} - \\frac{1}{\\sqrt{2}} ( |0\\rangle - |1 \\rangle)  \\xrightarrow{H} - |1 \\rangle \\xrightarrow{X} -|0\\rangle $$\n",
    "\n",
    "#### For two qubits...\n",
    "\n",
    "Let's make the previous qubit as the second qubit and substitute the central  $X$  with a  $\\mathrm{CNOT}$  controlled by the first qubit in the state $|1 \\rangle$ :\n",
    "$$ |1 \\rangle |1 \\rangle \\xrightarrow{H} |1 \\rangle \\frac{1}{\\sqrt{2}} (|0\\rangle - |1\\rangle) \\xrightarrow{CNOT} - |1 \\rangle \\frac{1}{\\sqrt{2}} ( |0\\rangle - |1 \\rangle)  \\xrightarrow{H} - |1 \\rangle |1 \\rangle $$\n",
    "\n",
    "If the first qubit is in the state $|0 \\rangle$, just put a $X$ on it before the $\\mathrm{CNOT}$ and another $X$ after the $\\mathrm{CNOT}$ to reverse the state.\n",
    "\n",
    "Let's draw the circuit of the oracle for the state $|11 \\rangle$."
   ]
  },
  {
   "cell_type": "code",
   "execution_count": null,
   "metadata": {},
   "outputs": [],
   "source": [
    "#create the circuit orac\n",
    "#orac = QuantumCircuit(qr)"
   ]
  },
  {
   "cell_type": "code",
   "execution_count": 6,
   "metadata": {},
   "outputs": [
    {
     "data": {
      "text/html": [
       "\n",
       "        <script>\n",
       "            function code_toggle_9841812982914204888() {\n",
       "                $('div.cell.code_cell.rendered.selected').next().find('div.input').toggle();\n",
       "            }\n",
       "\n",
       "            $('div.cell.code_cell.rendered.selected').find(\"div.input\").hide();\n",
       "        </script>\n",
       "\n",
       "        <a href=\"javascript:code_toggle_9841812982914204888()\">Toggle show/hide next cell</a>\n",
       "    "
      ],
      "text/plain": [
       "<IPython.core.display.HTML object>"
      ]
     },
     "execution_count": 6,
     "metadata": {},
     "output_type": "execute_result"
    }
   ],
   "source": [
    "hide_toggle(for_next=True)"
   ]
  },
  {
   "cell_type": "code",
   "execution_count": null,
   "metadata": {},
   "outputs": [],
   "source": [
    "#orac = QuantumCircuit(qr)\n",
    "\n",
    "#orac.h(qr[1])\n",
    "#orac.cx(qr[0],qr[1])\n",
    "#orac.h(qr[1])\n",
    "#orac.barrier()\n",
    "\n",
    "#orac.draw(output='mpl')"
   ]
  },
  {
   "cell_type": "markdown",
   "metadata": {},
   "source": [
    "Let's put together with the Hadamard transform."
   ]
  },
  {
   "cell_type": "code",
   "execution_count": null,
   "metadata": {},
   "outputs": [],
   "source": [
    "# The Qiskit circuit object supports concatenating circuits with the addition operator.\n",
    "\n",
    "qc = had_tr + orac\n",
    "\n",
    "qc.draw(output='mpl')"
   ]
  },
  {
   "cell_type": "markdown",
   "metadata": {},
   "source": [
    "## We create an oracle for each searched card\n",
    "In a list of if we create the Oracle function depending on the state we want find."
   ]
  },
  {
   "cell_type": "code",
   "execution_count": null,
   "metadata": {},
   "outputs": [],
   "source": [
    "orac = QuantumCircuit(qr)\n",
    "\n",
    "if scelta == \"a\": # |00>\n",
    "    orac.x(qr[0])\n",
    "    orac.x(qr[1])\n",
    "    orac.h(qr[1])\n",
    "    orac.cx(qr[0],qr[1])\n",
    "    orac.h(qr[1])\n",
    "    orac.x(qr[0])\n",
    "    orac.x(qr[1])\n",
    "    orac.barrier()\n",
    "\n",
    "if scelta == \"b\": # |01>\n",
    "    orac.x(qr[1])\n",
    "    orac.h(qr[1])\n",
    "    orac.cx(qr[0],qr[1])\n",
    "    orac.h(qr[1])\n",
    "    orac.x(qr[1])\n",
    "    orac.barrier()\n",
    "\n",
    "if scelta == \"c\": # |10>\n",
    "    orac.x(qr[0])\n",
    "    orac.h(qr[1])\n",
    "    orac.cx(qr[0],qr[1])\n",
    "    orac.h(qr[1])\n",
    "    orac.x(qr[0])\n",
    "    orac.barrier()\n",
    "\n",
    "if scelta == \"d\":  # |11>\n",
    "    orac.h(qr[1])\n",
    "    orac.cx(qr[0],qr[1])\n",
    "    orac.h(qr[1])\n",
    "    orac.barrier()\n",
    "\n",
    "orac.draw(output='mpl')"
   ]
  },
  {
   "cell_type": "markdown",
   "metadata": {},
   "source": [
    "Let's intialize the circuit with the Hadamard transform"
   ]
  },
  {
   "cell_type": "code",
   "execution_count": null,
   "metadata": {},
   "outputs": [],
   "source": [
    "qc = had_tr\n",
    "qc.draw(output='mpl')"
   ]
  },
  {
   "cell_type": "markdown",
   "metadata": {},
   "source": [
    "Let's see the array of amplitudes, before applying the oracle operator"
   ]
  },
  {
   "cell_type": "code",
   "execution_count": null,
   "metadata": {},
   "outputs": [],
   "source": [
    "backend = BasicAer.get_backend('statevector_simulator')\n",
    "job = execute(qc, backend)\n",
    "\n",
    "state = job.result().get_statevector(qc)\n",
    "state"
   ]
  },
  {
   "cell_type": "markdown",
   "metadata": {},
   "source": [
    "Now let's apply the oracle and see the array of amplitudes after the oracle"
   ]
  },
  {
   "cell_type": "code",
   "execution_count": null,
   "metadata": {},
   "outputs": [],
   "source": [
    "qc = had_tr + orac\n",
    "qc.draw(output='mpl')"
   ]
  },
  {
   "cell_type": "code",
   "execution_count": null,
   "metadata": {},
   "outputs": [],
   "source": [
    "job = execute(qc, backend)\n",
    "\n",
    "state = job.result().get_statevector(qc)\n",
    "state"
   ]
  },
  {
   "cell_type": "markdown",
   "metadata": {},
   "source": [
    "Neglecting the null imaginary component we can conclude that after the Oracle only the chosen \"card\" has reversed sign"
   ]
  },
  {
   "cell_type": "markdown",
   "metadata": {},
   "source": [
    "## Let's create the operator $2 | 0 \\rangle \\langle 0 | -I $  (conditioned phase shift)"
   ]
  },
  {
   "cell_type": "markdown",
   "metadata": {},
   "source": [
    "We have to build an operator $U$ that let's unchanged  the state $| 00 \\rangle$ and change the sign of the other basis states, but if we build the opposite operator $V=-U$ this change only the global phase that doesn't affect the result of the measurement.\n",
    "\n",
    "So let's build the opposite operator that changes the sign of $| 00 \\rangle$ and let unchanged the other state. We have already seen this operator..."
   ]
  },
  {
   "cell_type": "code",
   "execution_count": null,
   "metadata": {},
   "outputs": [],
   "source": [
    "cphase = QuantumCircuit(qr)\n",
    "\n",
    "cphase.x(qr[0])\n",
    "cphase.x(qr[1])\n",
    "\n",
    "cphase.h(qr[1])\n",
    "cphase.cx(qr[0],qr[1])\n",
    "cphase.h(qr[1])\n",
    "\n",
    "cphase.x(qr[0])\n",
    "cphase.x(qr[1])\n",
    "cphase.barrier()\n",
    "\n",
    "qc = cphase\n",
    "\n",
    "qc.draw(output='mpl')"
   ]
  },
  {
   "cell_type": "markdown",
   "metadata": {},
   "source": [
    "#### Let's put all togheter"
   ]
  },
  {
   "cell_type": "code",
   "execution_count": null,
   "metadata": {
    "scrolled": true
   },
   "outputs": [],
   "source": [
    "qc = had_tr + orac + had_tr + cphase + had_tr\n",
    "\n",
    "qc.draw(output='mpl')"
   ]
  },
  {
   "cell_type": "markdown",
   "metadata": {},
   "source": [
    "#### Let's complete the circuit with the measurements"
   ]
  },
  {
   "cell_type": "code",
   "execution_count": null,
   "metadata": {},
   "outputs": [],
   "source": [
    "#solution:\n",
    "#add classical bit register and meas, draw the circuit"
   ]
  },
  {
   "cell_type": "code",
   "execution_count": 7,
   "metadata": {},
   "outputs": [
    {
     "data": {
      "text/html": [
       "\n",
       "        <script>\n",
       "            function code_toggle_13534468226774062571() {\n",
       "                $('div.cell.code_cell.rendered.selected').next().find('div.input').toggle();\n",
       "            }\n",
       "\n",
       "            $('div.cell.code_cell.rendered.selected').find(\"div.input\").hide();\n",
       "        </script>\n",
       "\n",
       "        <a href=\"javascript:code_toggle_13534468226774062571()\">Toggle show/hide next cell</a>\n",
       "    "
      ],
      "text/plain": [
       "<IPython.core.display.HTML object>"
      ]
     },
     "execution_count": 7,
     "metadata": {},
     "output_type": "execute_result"
    }
   ],
   "source": [
    "hide_toggle(for_next=True)"
   ]
  },
  {
   "cell_type": "code",
   "execution_count": null,
   "metadata": {},
   "outputs": [],
   "source": [
    "# Create a Classical Register with 2 bits.\n",
    "#cr = ClassicalRegister(2, 'cr')\n",
    "# Create a Quantum Circuit\n",
    "#meas = QuantumCircuit(qr, cr)\n",
    "\n",
    "# add measurement operators\n",
    "#meas.measure(qr,cr)\n",
    "\n",
    "#qc = had_tr + orac + had_tr + cphase + had_tr + meas\n",
    "\n",
    "#drawing the circuit\n",
    "#qc.draw(output='mpl')"
   ]
  },
  {
   "cell_type": "markdown",
   "metadata": {},
   "source": [
    "## We run the circuit in the first instance with the simulator\n",
    "We report the values found in measure "
   ]
  },
  {
   "cell_type": "code",
   "execution_count": null,
   "metadata": {},
   "outputs": [],
   "source": [
    "#solution:\n",
    "#from qiskit import BasicAer\n",
    "#...\n",
    "#...\n",
    "#print(\"Results : \", counts)"
   ]
  },
  {
   "cell_type": "code",
   "execution_count": 8,
   "metadata": {},
   "outputs": [
    {
     "data": {
      "text/html": [
       "\n",
       "        <script>\n",
       "            function code_toggle_17537441241905693199() {\n",
       "                $('div.cell.code_cell.rendered.selected').next().find('div.input').toggle();\n",
       "            }\n",
       "\n",
       "            $('div.cell.code_cell.rendered.selected').find(\"div.input\").hide();\n",
       "        </script>\n",
       "\n",
       "        <a href=\"javascript:code_toggle_17537441241905693199()\">Toggle show/hide next cell</a>\n",
       "    "
      ],
      "text/plain": [
       "<IPython.core.display.HTML object>"
      ]
     },
     "execution_count": 8,
     "metadata": {},
     "output_type": "execute_result"
    }
   ],
   "source": [
    "hide_toggle(for_next=True)"
   ]
  },
  {
   "cell_type": "code",
   "execution_count": null,
   "metadata": {},
   "outputs": [],
   "source": [
    "# Import Aer\n",
    "#from qiskit import BasicAer\n",
    "\n",
    "# Use Aer's qasm_simulator\n",
    "#backend_sim = BasicAer.get_backend('qasm_simulator')\n",
    "\n",
    "# Execute the circuit on the qasm simulator.\n",
    "# We've set the number of repeats of the circuit\n",
    "# to be 1024, which is the default.\n",
    "#job = execute(qc, backend_sim)\n",
    "\n",
    "# Grab the results from the job.\n",
    "#result = job.result()\n",
    "\n",
    "#counts = result.get_counts(qc)\n",
    "#print(\"Results : \", counts)"
   ]
  },
  {
   "cell_type": "markdown",
   "metadata": {},
   "source": [
    "## Let's plot the histogram\n",
    "We report the value identified and the occurrences in the set of readings"
   ]
  },
  {
   "cell_type": "code",
   "execution_count": null,
   "metadata": {},
   "outputs": [],
   "source": [
    "from qiskit.tools.visualization import plot_histogram\n",
    "plot_histogram(counts)"
   ]
  },
  {
   "cell_type": "markdown",
   "metadata": {},
   "source": [
    "## We run the circuit with the real processor <a id='sectionB'></a>\n",
    " The following is the sequence of necessary operations:\n",
    " \n",
    " a) we import IBMQ, i.e. the management libraries of the real processor\n",
    " \n",
    " b) we save (save_account function) our credentials obtained from the advanced functions of my account on IBM Q Experience\n",
    " \n",
    " c) we load (load_accounts) the credentials \n",
    " \n",
    " d) we print the available backends (backends)\n",
    " \n",
    " e) from qiskit.backends.ibmq we import the function least_busy that allows to evaluate the optimal backend. We apply this function to the backends excluding the qasm simulator \"devices = IBMQ.backends(filters=lambda x: x.configuration()['n_qubits'] > 2 and not x.configuration()['simulator'])\".\n",
    " \n",
    " f) we import all features from qiskit.wrapper.jupyter\n",
    " \n",
    " g) we set %%qiskit_job_status that will serve to visualize the ongoing of our job; then we set in a variable the number of shots and the maximum number of credits allowed; then we execute the job passing: circuit name, backend name, shot number, maximum credits number\n",
    " \n",
    " h) as above we put in result_real the measurements and make the plot\n",
    " "
   ]
  },
  {
   "cell_type": "code",
   "execution_count": null,
   "metadata": {},
   "outputs": [],
   "source": [
    "#1\n",
    "from qiskit import IBMQ\n",
    "#IBMQ.delete_accounts()\n",
    "#IBMQ.save_account('API_TOKEN')"
   ]
  },
  {
   "cell_type": "code",
   "execution_count": null,
   "metadata": {},
   "outputs": [],
   "source": [
    "#2\n",
    "provider = IBMQ.load_account()"
   ]
  },
  {
   "cell_type": "code",
   "execution_count": null,
   "metadata": {},
   "outputs": [],
   "source": [
    "#3\n",
    "#solution:"
   ]
  },
  {
   "cell_type": "code",
   "execution_count": 9,
   "metadata": {},
   "outputs": [
    {
     "data": {
      "text/html": [
       "\n",
       "        <script>\n",
       "            function code_toggle_11970335932016095892() {\n",
       "                $('div.cell.code_cell.rendered.selected').next().find('div.input').toggle();\n",
       "            }\n",
       "\n",
       "            $('div.cell.code_cell.rendered.selected').find(\"div.input\").hide();\n",
       "        </script>\n",
       "\n",
       "        <a href=\"javascript:code_toggle_11970335932016095892()\">Toggle show/hide next cell</a>\n",
       "    "
      ],
      "text/plain": [
       "<IPython.core.display.HTML object>"
      ]
     },
     "execution_count": 9,
     "metadata": {},
     "output_type": "execute_result"
    }
   ],
   "source": [
    "hide_toggle(for_next=True)"
   ]
  },
  {
   "cell_type": "code",
   "execution_count": null,
   "metadata": {},
   "outputs": [],
   "source": [
    "#3\n",
    "#print(\"Available backends:\")\n",
    "#provider.backends()\n",
    "#from qiskit.tools.monitor import job_monitor, backend_monitor, backend_overview\n",
    "#from qiskit.providers.ibmq import least_busy\n",
    "#backend = least_busy(provider.backends(filters=lambda x: not x.configuration().simulator))\n",
    "#backend.name()\n",
    "#shots = 1024           # Number of shots to run the program (experiment); maximum is 8192 shots.\n",
    "#max_credits = 3        # Maximum number of credits to spend on executions. \n",
    "\n",
    "#job_exp = execute(qc, backend=backend, shots=shots, max_credits=max_credits)\n",
    "#job_monitor(job_exp)\n",
    "#result_real = job_exp.result()\n",
    "#counts_real = result_real.get_counts(qc)"
   ]
  },
  {
   "cell_type": "markdown",
   "metadata": {},
   "source": [
    "## Let's plot the values <a id='sectionB'></a>\n",
    "We report the value identified and the occurrences in the set of readings"
   ]
  },
  {
   "cell_type": "code",
   "execution_count": null,
   "metadata": {},
   "outputs": [],
   "source": [
    "plot_histogram(counts_real)"
   ]
  },
  {
   "cell_type": "markdown",
   "metadata": {},
   "source": [
    "**The previous value was found in only one machine cycle**\n",
    "\n",
    "How many would it take to find the winner with the classic circuit?\n",
    "\n"
   ]
  },
  {
   "cell_type": "code",
   "execution_count": null,
   "metadata": {},
   "outputs": [],
   "source": [
    "#formulate the classical solution"
   ]
  },
  {
   "cell_type": "code",
   "execution_count": 13,
   "metadata": {},
   "outputs": [
    {
     "data": {
      "text/html": [
       "\n",
       "        <script>\n",
       "            function code_toggle_13597075541581919350() {\n",
       "                $('div.cell.code_cell.rendered.selected').next().find('div.input').toggle();\n",
       "            }\n",
       "\n",
       "            $('div.cell.code_cell.rendered.selected').find(\"div.input\").hide();\n",
       "        </script>\n",
       "\n",
       "        <a href=\"javascript:code_toggle_13597075541581919350()\">Toggle show/hide next cell</a>\n",
       "    "
      ],
      "text/plain": [
       "<IPython.core.display.HTML object>"
      ]
     },
     "execution_count": 13,
     "metadata": {},
     "output_type": "execute_result"
    }
   ],
   "source": [
    "hide_toggle(for_next=True)"
   ]
  },
  {
   "cell_type": "code",
   "execution_count": null,
   "metadata": {},
   "outputs": [],
   "source": [
    "#counter=0\n",
    "#for i in [\"a\",\"b\",\"c\",\"d\"]:\n",
    "\t#counter=counter+1\n",
    "\t#if i == scelta:\n",
    "\t\t#print(\"winner found after \", counter) "
   ]
  },
  {
   "cell_type": "markdown",
   "metadata": {},
   "source": [
    "## Bonus Track: test different combination? Open the following links: **"
   ]
  },
  {
   "cell_type": "code",
   "execution_count": null,
   "metadata": {},
   "outputs": [],
   "source": [
    "import webbrowser\n",
    "url_1target = 'https://www.nature.com/articles/s41467-017-01904-7/tables/1'\n",
    "url_2target = 'https://www.nature.com/articles/s41467-017-01904-7/tables/2'\n",
    "webbrowser.open(url_1target)\n",
    "webbrowser.open(url_2target)"
   ]
  }
 ],
 "metadata": {
  "kernelspec": {
   "display_name": "Python 3",
   "language": "python",
   "name": "python3"
  },
  "language_info": {
   "codemirror_mode": {
    "name": "ipython",
    "version": 3
   },
   "file_extension": ".py",
   "mimetype": "text/x-python",
   "name": "python",
   "nbconvert_exporter": "python",
   "pygments_lexer": "ipython3",
   "version": "3.6.8"
  }
 },
 "nbformat": 4,
 "nbformat_minor": 2
}
